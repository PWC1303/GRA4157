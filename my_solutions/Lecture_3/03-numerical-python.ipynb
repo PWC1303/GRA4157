{
 "cells": [
  {
   "cell_type": "markdown",
   "metadata": {
    "slideshow": {
     "slide_type": "slide"
    }
   },
   "source": [
    "# Lecture 3: Numerical Python\n",
    "## September 05, 2025"
   ]
  },
  {
   "cell_type": "markdown",
   "metadata": {
    "slideshow": {
     "slide_type": "slide"
    }
   },
   "source": [
    "## Functions as arguments"
   ]
  },
  {
   "cell_type": "markdown",
   "metadata": {},
   "source": [
    "Like all objects, functions can be arguments to functions"
   ]
  },
  {
   "cell_type": "code",
   "execution_count": 2,
   "metadata": {},
   "outputs": [],
   "source": [
    "def add(x,y):\n",
    "    return x+y\n",
    "\n",
    "def sub(x, y):\n",
    "    return x-y\n",
    "\n",
    "def apply(func, x, y):\n",
    "    return func(x, y)"
   ]
  },
  {
   "cell_type": "code",
   "execution_count": 3,
   "metadata": {},
   "outputs": [
    {
     "data": {
      "text/plain": [
       "3"
      ]
     },
     "execution_count": 3,
     "metadata": {},
     "output_type": "execute_result"
    }
   ],
   "source": [
    "apply(add, 1, 2)"
   ]
  },
  {
   "cell_type": "code",
   "execution_count": 4,
   "metadata": {},
   "outputs": [
    {
     "data": {
      "text/plain": [
       "2"
      ]
     },
     "execution_count": 4,
     "metadata": {},
     "output_type": "execute_result"
    }
   ],
   "source": [
    "apply(sub, 7, 5)"
   ]
  },
  {
   "cell_type": "markdown",
   "metadata": {
    "slideshow": {
     "slide_type": "slide"
    }
   },
   "source": [
    "## Functions inside functions"
   ]
  },
  {
   "cell_type": "markdown",
   "metadata": {},
   "source": [
    "Python allows nested function definitions:"
   ]
  },
  {
   "cell_type": "code",
   "execution_count": 5,
   "metadata": {},
   "outputs": [
    {
     "data": {
      "text/plain": [
       "384"
      ]
     },
     "execution_count": 5,
     "metadata": {},
     "output_type": "execute_result"
    }
   ],
   "source": [
    "def g(x, y):\n",
    "    \n",
    "    def cube(x):\n",
    "        return x*x*x\n",
    "    \n",
    "    return y*cube(x)\n",
    "\n",
    "g(4, 6)\n"
   ]
  },
  {
   "cell_type": "markdown",
   "metadata": {
    "slideshow": {
     "slide_type": "slide"
    }
   },
   "source": [
    "## Function returning functions"
   ]
  },
  {
   "cell_type": "code",
   "execution_count": 6,
   "metadata": {},
   "outputs": [
    {
     "data": {
      "text/plain": [
       "<function __main__.h.<locals>.inner_h()>"
      ]
     },
     "execution_count": 6,
     "metadata": {},
     "output_type": "execute_result"
    }
   ],
   "source": [
    "def h():\n",
    "    pi = 0.13\n",
    "    def inner_h():\n",
    "        print(\"Inside inner_h but can access pi={}\".format(pi))\n",
    "        \n",
    "    return inner_h\n",
    "\n",
    "foo = h()\n",
    "foo"
   ]
  },
  {
   "cell_type": "code",
   "execution_count": 7,
   "metadata": {},
   "outputs": [
    {
     "name": "stdout",
     "output_type": "stream",
     "text": [
      "Inside inner_h but can access pi=0.13\n"
     ]
    }
   ],
   "source": [
    "foo()"
   ]
  },
  {
   "cell_type": "markdown",
   "metadata": {
    "slideshow": {
     "slide_type": "slide"
    }
   },
   "source": [
    "## More functions returning functions: *decorators*"
   ]
  },
  {
   "cell_type": "markdown",
   "metadata": {},
   "source": [
    "A toy example"
   ]
  },
  {
   "cell_type": "code",
   "execution_count": 8,
   "metadata": {},
   "outputs": [],
   "source": [
    "\n",
    "def foo():\n",
    "    return 1\n",
    "\n",
    "def bar():\n",
    "    return 5\n",
    "\n",
    "def outer(func):\n",
    "    def inner():\n",
    "        print(\"before calling function\")\n",
    "        return func() + 100\n",
    "    return inner\n",
    "\n",
    "foo = outer(foo)"
   ]
  },
  {
   "cell_type": "markdown",
   "metadata": {},
   "source": [
    "The function `decorated` is a decorated version of function `foo`.\n",
    "It is `foo` plus something more:"
   ]
  },
  {
   "cell_type": "code",
   "execution_count": 9,
   "metadata": {},
   "outputs": [
    {
     "name": "stdout",
     "output_type": "stream",
     "text": [
      "before calling function\n"
     ]
    },
    {
     "data": {
      "text/plain": [
       "101"
      ]
     },
     "execution_count": 9,
     "metadata": {},
     "output_type": "execute_result"
    }
   ],
   "source": [
    "foo()"
   ]
  },
  {
   "cell_type": "markdown",
   "metadata": {},
   "source": [
    "To simplify, we could just write\n",
    "```python \n",
    "foo = outer(foo)\n",
    "```\n",
    "to replace foo with its decorated version each time it is called"
   ]
  },
  {
   "cell_type": "markdown",
   "metadata": {
    "slideshow": {
     "slide_type": "slide"
    }
   },
   "source": [
    "## The `@decorator` syntax"
   ]
  },
  {
   "cell_type": "markdown",
   "metadata": {},
   "source": [
    "Python provides a short notation for decorating a function with\n",
    "another function:"
   ]
  },
  {
   "cell_type": "code",
   "execution_count": 10,
   "metadata": {},
   "outputs": [],
   "source": [
    "def outer(func):\n",
    "    def inner():\n",
    "        print(\"before calling function\")\n",
    "        return func() + 100\n",
    "    return inner\n",
    "\n",
    "def bar():\n",
    "    return 1\n",
    "\n",
    "@outer\n",
    "def foo():\n",
    "    return 1\n"
   ]
  },
  {
   "cell_type": "code",
   "execution_count": 11,
   "metadata": {},
   "outputs": [
    {
     "data": {
      "text/plain": [
       "1"
      ]
     },
     "execution_count": 11,
     "metadata": {},
     "output_type": "execute_result"
    }
   ],
   "source": [
    "bar()"
   ]
  },
  {
   "cell_type": "code",
   "execution_count": 12,
   "metadata": {},
   "outputs": [
    {
     "name": "stdout",
     "output_type": "stream",
     "text": [
      "before calling function\n"
     ]
    },
    {
     "data": {
      "text/plain": [
       "101"
      ]
     },
     "execution_count": 12,
     "metadata": {},
     "output_type": "execute_result"
    }
   ],
   "source": [
    "foo()"
   ]
  },
  {
   "cell_type": "code",
   "execution_count": 13,
   "metadata": {},
   "outputs": [
    {
     "ename": "ValueError",
     "evalue": "math domain error",
     "output_type": "error",
     "traceback": [
      "\u001b[1;31m---------------------------------------------------------------------------\u001b[0m",
      "\u001b[1;31mValueError\u001b[0m                                Traceback (most recent call last)",
      "Cell \u001b[1;32mIn[13], line 5\u001b[0m\n\u001b[0;32m      2\u001b[0m \u001b[38;5;28;01mdef\u001b[39;00m\u001b[38;5;250m \u001b[39m\u001b[38;5;21mg\u001b[39m(x):\n\u001b[0;32m      3\u001b[0m     \u001b[38;5;28;01mreturn\u001b[39;00m log(x) \u001b[38;5;241m-\u001b[39m \u001b[38;5;241m2\u001b[39m\n\u001b[1;32m----> 5\u001b[0m g(\u001b[38;5;241m0\u001b[39m)\n",
      "Cell \u001b[1;32mIn[13], line 3\u001b[0m, in \u001b[0;36mg\u001b[1;34m(x)\u001b[0m\n\u001b[0;32m      2\u001b[0m \u001b[38;5;28;01mdef\u001b[39;00m\u001b[38;5;250m \u001b[39m\u001b[38;5;21mg\u001b[39m(x):\n\u001b[1;32m----> 3\u001b[0m     \u001b[38;5;28;01mreturn\u001b[39;00m log(x) \u001b[38;5;241m-\u001b[39m \u001b[38;5;241m2\u001b[39m\n",
      "\u001b[1;31mValueError\u001b[0m: math domain error"
     ]
    }
   ],
   "source": [
    "from math import log\n",
    "def g(x):\n",
    "    return log(x) - 2\n",
    "\n",
    "g(0)"
   ]
  },
  {
   "cell_type": "code",
   "execution_count": null,
   "metadata": {},
   "outputs": [],
   "source": [
    "from math import log\n",
    "\n",
    "def checkrange(func):\n",
    "    def inner(x):\n",
    "        if x <= 0:\n",
    "            print(\"Error: x must be larger than zero\")\n",
    "        else:\n",
    "            return func(x)\n",
    "    return inner\n",
    "\n",
    "@checkrange\n",
    "def g(x):\n",
    "    return log(x) - 2\n"
   ]
  },
  {
   "cell_type": "code",
   "execution_count": null,
   "metadata": {},
   "outputs": [],
   "source": [
    "g(-1)"
   ]
  },
  {
   "cell_type": "markdown",
   "metadata": {},
   "source": [
    "This is essentially the same as writing `g = checkrange(g)`."
   ]
  },
  {
   "cell_type": "markdown",
   "metadata": {},
   "source": [
    "A decorator is simply a function taking a function as input\n",
    "and returning another function. \n",
    "\n",
    "The syntax `@decorator` is a\n",
    "short-cut for the more explicit `f = decorator(f)`."
   ]
  },
  {
   "cell_type": "markdown",
   "metadata": {
    "slideshow": {
     "slide_type": "slide"
    }
   },
   "source": [
    "## A (much) more useful decorator: memoization"
   ]
  },
  {
   "cell_type": "markdown",
   "metadata": {},
   "source": [
    "The first time we learned multiplication, our strategy might to add cumulatively: e.g. 3x3 = 3 + 3 + 3 = 6 + 3 = 9"
   ]
  },
  {
   "cell_type": "code",
   "execution_count": null,
   "metadata": {},
   "outputs": [],
   "source": [
    "from time import sleep\n",
    "\n",
    "def slow_mult(x,y):\n",
    "    res = 0\n",
    "    for i in range(y):\n",
    "        print(\"Thinking...\")\n",
    "        sleep(1) \n",
    "        res += x\n",
    "    return res\n",
    "\n",
    "print(slow_mult(3,3))\n",
    "print(slow_mult(3,3))"
   ]
  },
  {
   "cell_type": "markdown",
   "metadata": {},
   "source": [
    "We call the function with the same input arguments, and hence perform the same (slow) calculations multiple times."
   ]
  },
  {
   "cell_type": "markdown",
   "metadata": {},
   "source": [
    "The idea of memoization (or buffering) is to buffer the input-output pairs for which the function was called.\n",
    "If the function is called twice with same input arguments, we return the buffer value."
   ]
  },
  {
   "cell_type": "markdown",
   "metadata": {},
   "source": [
    "The implementation of a memoization with a `decorator` could look like:"
   ]
  },
  {
   "cell_type": "code",
   "execution_count": null,
   "metadata": {},
   "outputs": [],
   "source": [
    "\n",
    "def memoize(func):\n",
    "    ''' Caches a function's return value each time it is called.\n",
    "        If called later with the same arguments, the cached value is returned\n",
    "        (not reevaluated). '''\n",
    "    cache = {}  # Stores all input-output pairs\n",
    "\n",
    "    def inner(x, y):\n",
    "        if (x, y) in cache:\n",
    "            return cache[(x, y)]\n",
    "        else:\n",
    "            result = func(x, y)\n",
    "            cache[(x, y)] = result\n",
    "            return result\n",
    "        \n",
    "    return inner"
   ]
  },
  {
   "cell_type": "markdown",
   "metadata": {
    "slideshow": {
     "slide_type": "slide"
    }
   },
   "source": [
    "Now we can apply the decorator to our slow function. Demo:"
   ]
  },
  {
   "cell_type": "code",
   "execution_count": null,
   "metadata": {},
   "outputs": [],
   "source": [
    "@memoize\n",
    "def slow_mult(x, y):\n",
    "    res = 0\n",
    "    for i in range(y):\n",
    "        print(\"Thinking...\")\n",
    "        sleep(1)\n",
    "        res += x\n",
    "    return res"
   ]
  },
  {
   "cell_type": "markdown",
   "metadata": {},
   "source": [
    "... and test it out"
   ]
  },
  {
   "cell_type": "code",
   "execution_count": null,
   "metadata": {},
   "outputs": [],
   "source": [
    "slow_mult(3, 3)"
   ]
  },
  {
   "cell_type": "markdown",
   "metadata": {
    "slideshow": {
     "slide_type": "slide"
    }
   },
   "source": [
    "# Numerical computations with NumPy\n"
   ]
  },
  {
   "cell_type": "markdown",
   "metadata": {
    "slideshow": {
     "slide_type": "-"
    }
   },
   "source": [
    "## Python can be slow for numerical computations\n",
    "\n",
    "Python scripts are first compiled to byte-code.\n",
    "\n",
    "The byte-code is then *interpreted*.\n",
    "\n",
    "Text processing is usually as fast as in C.\n",
    "\n",
    "Loops over large data structures might be very slow:\n",
    "```Python\n",
    "for i in range(len(A)):\n",
    "    A[i] = ...\n",
    "```    "
   ]
  },
  {
   "cell_type": "markdown",
   "metadata": {
    "slideshow": {
     "slide_type": "-"
    }
   },
   "source": [
    "Fortran, C and C++ compilers are good at optimizing such loops at compile time and produce very efficient assembly code (e.g. 100 times faster).\n",
    "\n",
    "Fortunately, long loops in scripts can easily be migrated to Fortran or C."
   ]
  },
  {
   "cell_type": "markdown",
   "metadata": {
    "slideshow": {
     "slide_type": "slide"
    }
   },
   "source": [
    "## With NumPy, Python scripts may be fast enough\n",
    "\n",
    "Read 100 000 (x,y) data from file and write (x,f(y)) out again\n",
    "\n",
    "* Pure Python: 4s\n",
    "* Pure Perl: 3s\n",
    "* Pure Tcl: 11s\n",
    "* Pure C (fscanf/fprintf): 1s\n",
    "* Pure C++ (iostream): 3.6s\n",
    "* Pure C++ (buffered streams): 2.5s\n",
    "* Python using NumPy module: 2.2s (!)\n",
    "\n",
    "\n",
    "Remark: in practice, 100 000 data points are written and read in binary format, resulting in much smaller differences"
   ]
  },
  {
   "cell_type": "markdown",
   "metadata": {
    "slideshow": {
     "slide_type": "slide"
    }
   },
   "source": [
    "## NumPy enables efficient numerical computing in Python\n",
    "\n",
    "Why efficient?\n",
    "\n",
    "* Offers efficient arrays (contiguous storage) with associated array operations \n",
    "* Written in C and Fortran\n",
    "\n",
    "NumPy is the *de facto* standard in Python,\n",
    "and today even is part of interoperability with other languages (R, Julia, etc.).\n"
   ]
  },
  {
   "cell_type": "markdown",
   "metadata": {
    "slideshow": {
     "slide_type": "slide"
    }
   },
   "source": [
    "## Contents\n",
    "\n",
    "* A first taste of NumPy\n",
    "* Creating arrays\n",
    "* Indexing/slicing arrays\n",
    "* Random numbers\n",
    "* Structured arrays\n",
    "* Performance considerations\n",
    "* Linear algebra\n",
    "* Plotting"
   ]
  },
  {
   "cell_type": "markdown",
   "metadata": {
    "slideshow": {
     "slide_type": "slide"
    }
   },
   "source": [
    "## More info\n",
    "\n",
    "* The NumPy quickstart (https://docs.scipy.org/doc/numpy/user/quickstart.html)\n",
    "* Scientific Computing Tools for Python \n",
    "  (https://www.scipy.org)\n",
    "* Scipy Lecture Notes (https://scipy-lectures.org)"
   ]
  },
  {
   "cell_type": "markdown",
   "metadata": {
    "slideshow": {
     "slide_type": "slide"
    }
   },
   "source": [
    "## A taste of NumPy\n",
    "\n",
    "**Task**: Fit a line through a set of (x, y) data points"
   ]
  },
  {
   "cell_type": "code",
   "execution_count": null,
   "metadata": {
    "slideshow": {
     "slide_type": "-"
    }
   },
   "outputs": [],
   "source": [
    "# Only needed for Jupyter\n",
    "%matplotlib inline"
   ]
  },
  {
   "cell_type": "code",
   "execution_count": null,
   "metadata": {},
   "outputs": [
    {
     "data": {
      "image/png": "[encoded data removed]",
      "text/plain": [
       "<Figure size 640x480 with 1 Axes>"
      ]
     },
     "metadata": {},
     "output_type": "display_data"
    }
   ],
   "source": [
    "import numpy as np\n",
    "import matplotlib.pyplot as plt\n",
    "\n",
    "# Create the x and y datapoints\n",
    "N = 20\n",
    "x = np.linspace(0.0, 1.0, N)  # coordinates\n",
    "y_line = -2 * x + 3  # Create y values for the datapoints\n",
    "y = y_line + np.random.normal(0, 0.25, N)  # add noise\n",
    "\n",
    "# create and solve least squares system:\n",
    "A = np.array([x, np.ones(N)])\n",
    "A = A.transpose()\n",
    "result = np.linalg.lstsq(A, y, rcond=None)\n",
    "\n",
    "# result is a 4-tuple, the solution (a,b) is the 1st entry:\n",
    "a, b = result[0]\n",
    "\n",
    "# plot the result\n",
    "plt.plot(x, y, \"o\", label=\"noisy data points\")\n",
    "plt.plot(x, y_line, \"r\", label=\"true line\")\n",
    "plt.plot(x, a * x + b, \"b\", label=\"fitted lined\")\n",
    "\n",
    "plt.legend()\n",
    "plt.savefig(\"myplot.pdf\")\n",
    "plt.show()"
   ]
  },
  {
   "cell_type": "markdown",
   "metadata": {
    "slideshow": {
     "slide_type": "slide"
    }
   },
   "source": [
    "## The example, step by step (i): Import NumPy module"
   ]
  },
  {
   "cell_type": "markdown",
   "metadata": {},
   "source": [
    "Importing the `numpy` module (abbreviated as `np` for simple use):"
   ]
  },
  {
   "cell_type": "code",
   "execution_count": null,
   "metadata": {},
   "outputs": [],
   "source": [
    "import numpy as np"
   ]
  },
  {
   "cell_type": "markdown",
   "metadata": {
    "slideshow": {
     "slide_type": "slide"
    }
   },
   "source": [
    "## The example, step by step (ii): Create noisy data"
   ]
  },
  {
   "cell_type": "markdown",
   "metadata": {},
   "source": [
    "**Goal**: Create $N$ datapoints that satisfy the equation:\n",
    "\n",
    "$$y = -2x + 3,$$\n",
    "\n",
    "and add some white noise to the y values."
   ]
  },
  {
   "cell_type": "markdown",
   "metadata": {
    "slideshow": {
     "slide_type": "slide"
    }
   },
   "source": [
    "**Step 1**: Create an equivally distributed array with x coordinates:"
   ]
  },
  {
   "cell_type": "code",
   "execution_count": null,
   "metadata": {},
   "outputs": [
    {
     "data": {
      "text/plain": [
       "array([0.  , 0.05, 0.1 , 0.15, 0.2 , 0.25, 0.3 , 0.35, 0.4 , 0.45, 0.5 ,\n",
       "       0.55, 0.6 , 0.65, 0.7 , 0.75, 0.8 , 0.85, 0.9 , 0.95, 1.  ])"
      ]
     },
     "execution_count": 22,
     "metadata": {},
     "output_type": "execute_result"
    }
   ],
   "source": [
    "# Create the x and y datapoints\n",
    "N = 21                                  \n",
    "x = np.linspace(0.0, 1.0, N)               # coordinates\n",
    "x"
   ]
  },
  {
   "cell_type": "markdown",
   "metadata": {
    "slideshow": {
     "slide_type": "slide"
    }
   },
   "source": [
    "**Step 2**: Generate the y data points using the equation above:"
   ]
  },
  {
   "cell_type": "code",
   "execution_count": null,
   "metadata": {},
   "outputs": [
    {
     "data": {
      "image/png": "[encoded data removed]",
      "text/plain": [
       "<Figure size 640x480 with 1 Axes>"
      ]
     },
     "metadata": {},
     "output_type": "display_data"
    }
   ],
   "source": [
    "y_line = -2 * x + 3  # Create y values for the datapoints\n",
    "plt.plot(x, y_line);"
   ]
  },
  {
   "cell_type": "markdown",
   "metadata": {},
   "source": [
    "**Note**: numpy performs operation elementwise (in contrast to Python lists)."
   ]
  },
  {
   "cell_type": "code",
   "execution_count": null,
   "metadata": {},
   "outputs": [
    {
     "name": "stdout",
     "output_type": "stream",
     "text": [
      "[1, 2, 3, 1, 2, 3, 1, 2, 3, 1, 2, 3, 1, 2, 3]\n",
      "[ 5 10 15]\n"
     ]
    }
   ],
   "source": [
    "regular_list = [1, 2, 3]\n",
    "numpy_list = np.array([1, 2, 3])\n",
    "\n",
    "print(regular_list * 5)\n",
    "print(numpy_list * 5)"
   ]
  },
  {
   "cell_type": "markdown",
   "metadata": {
    "slideshow": {
     "slide_type": "slide"
    }
   },
   "source": [
    "**Step 3:** Add noise:"
   ]
  },
  {
   "cell_type": "code",
   "execution_count": null,
   "metadata": {
    "scrolled": false
   },
   "outputs": [
    {
     "data": {
      "image/png": "[encoded data removed]",
      "text/plain": [
       "<Figure size 640x480 with 1 Axes>"
      ]
     },
     "metadata": {},
     "output_type": "display_data"
    }
   ],
   "source": [
    "y = y_line + np.random.normal(0, 0.25, N)  # add noise\n",
    "plt.plot(x, y);"
   ]
  },
  {
   "cell_type": "markdown",
   "metadata": {
    "slideshow": {
     "slide_type": "slide"
    }
   },
   "source": [
    "## The example, step by step (iii): Fit the line through the data\n",
    "\n",
    "**Task**: Identify the two line parameters $a, b$ such that\n",
    "\n",
    "$$y \\approx a x + b$$\n",
    "for all x, y data points."
   ]
  },
  {
   "cell_type": "markdown",
   "metadata": {
    "slideshow": {
     "slide_type": "-"
    }
   },
   "source": [
    "More precisely, we want to identify the line where the **summed squared error is minimal**:\n",
    "\n",
    "$$\\min_{a, b} \\sum_{i=0}^N |y_i - ax_i - b|^2$$"
   ]
  },
  {
   "cell_type": "markdown",
   "metadata": {
    "slideshow": {
     "slide_type": "slide"
    }
   },
   "source": [
    "numpy has a built in function for solving **least squares** problems: `numpy.linalg.lstsq`:"
   ]
  },
  {
   "cell_type": "code",
   "execution_count": null,
   "metadata": {
    "slideshow": {
     "slide_type": "-"
    }
   },
   "outputs": [
    {
     "name": "stdout",
     "output_type": "stream",
     "text": [
      "Help on _ArrayFunctionDispatcher in module numpy.linalg:\n",
      "\n",
      "lstsq(a, b, rcond=None)\n",
      "    Return the least-squares solution to a linear matrix equation.\n",
      "\n",
      "    Computes the vector `x` that approximately solves the equation\n",
      "    ``a @ x = b``. The equation may be under-, well-, or over-determined\n",
      "    (i.e., the number of linearly independent rows of `a` can be less than,\n",
      "    equal to, or greater than its number of linearly independent columns).\n",
      "    If `a` is square and of full rank, then `x` (but for round-off error)\n",
      "    is the \"exact\" solution of the equation. Else, `x` minimizes the\n",
      "    Euclidean 2-norm :math:`||b - ax||`. If there are multiple minimizing\n",
      "    solutions, the one with the smallest 2-norm :math:`||x||` is returned.\n",
      "\n",
      "    Parameters\n",
      "    ----------\n",
      "    a : (M, N) array_like\n",
      "        \"Coefficient\" matrix.\n",
      "    b : {(M,), (M, K)} array_like\n",
      "        Ordinate or \"dependent variable\" values. If `b` is two-dimensional,\n",
      "        the least-squares solution is calculated for each of the `K` columns\n",
      "        of `b`.\n",
      "    rcond : float, optional\n",
      "        Cut-off ratio for small singular values of `a`.\n",
      "        For the purposes of rank determination, singular values are treated\n",
      "        as zero if they are smaller than `rcond` times the largest singular\n",
      "        value of `a`.\n",
      "        The default uses the machine precision times ``max(M, N)``.  Passing\n",
      "        ``-1`` will use machine precision.\n",
      "\n",
      "        .. versionchanged:: 2.0\n",
      "            Previously, the default was ``-1``, but a warning was given that\n",
      "            this would change.\n",
      "\n",
      "    Returns\n",
      "    -------\n",
      "    x : {(N,), (N, K)} ndarray\n",
      "        Least-squares solution. If `b` is two-dimensional,\n",
      "        the solutions are in the `K` columns of `x`.\n",
      "    residuals : {(1,), (K,), (0,)} ndarray\n",
      "        Sums of squared residuals: Squared Euclidean 2-norm for each column in\n",
      "        ``b - a @ x``.\n",
      "        If the rank of `a` is < N or M <= N, this is an empty array.\n",
      "        If `b` is 1-dimensional, this is a (1,) shape array.\n",
      "        Otherwise the shape is (K,).\n",
      "    rank : int\n",
      "        Rank of matrix `a`.\n",
      "    s : (min(M, N),) ndarray\n",
      "        Singular values of `a`.\n",
      "\n",
      "    Raises\n",
      "    ------\n",
      "    LinAlgError\n",
      "        If computation does not converge.\n",
      "\n",
      "    See Also\n",
      "    --------\n",
      "    scipy.linalg.lstsq : Similar function in SciPy.\n",
      "\n",
      "    Notes\n",
      "    -----\n",
      "    If `b` is a matrix, then all array results are returned as matrices.\n",
      "\n",
      "    Examples\n",
      "    --------\n",
      "    Fit a line, ``y = mx + c``, through some noisy data-points:\n",
      "\n",
      "    >>> import numpy as np\n",
      "    >>> x = np.array([0, 1, 2, 3])\n",
      "    >>> y = np.array([-1, 0.2, 0.9, 2.1])\n",
      "\n",
      "    By examining the coefficients, we see that the line should have a\n",
      "    gradient of roughly 1 and cut the y-axis at, more or less, -1.\n",
      "\n",
      "    We can rewrite the line equation as ``y = Ap``, where ``A = [[x 1]]``\n",
      "    and ``p = [[m], [c]]``.  Now use `lstsq` to solve for `p`:\n",
      "\n",
      "    >>> A = np.vstack([x, np.ones(len(x))]).T\n",
      "    >>> A\n",
      "    array([[ 0.,  1.],\n",
      "           [ 1.,  1.],\n",
      "           [ 2.,  1.],\n",
      "           [ 3.,  1.]])\n",
      "\n",
      "    >>> m, c = np.linalg.lstsq(A, y)[0]\n",
      "    >>> m, c\n",
      "    (1.0 -0.95) # may vary\n",
      "\n",
      "    Plot the data along with the fitted line:\n",
      "\n",
      "    >>> import matplotlib.pyplot as plt\n",
      "    >>> _ = plt.plot(x, y, 'o', label='Original data', markersize=10)\n",
      "    >>> _ = plt.plot(x, m*x + c, 'r', label='Fitted line')\n",
      "    >>> _ = plt.legend()\n",
      "    >>> plt.show()\n",
      "\n"
     ]
    }
   ],
   "source": [
    "help(np.linalg.lstsq)"
   ]
  },
  {
   "cell_type": "code",
   "execution_count": null,
   "metadata": {
    "slideshow": {
     "slide_type": "-"
    }
   },
   "outputs": [
    {
     "data": {
      "text/plain": [
       "(array([-1.89130172,  2.91481323]),\n",
       " array([1.09483966]),\n",
       " np.int32(2),\n",
       " array([5.16319707, 1.23142031]))"
      ]
     },
     "execution_count": 31,
     "metadata": {},
     "output_type": "execute_result"
    }
   ],
   "source": [
    "A = np.array([x, np.ones(N)])\n",
    "A = A.transpose()\n",
    "result = np.linalg.lstsq(A, y, rcond=None)\n",
    "result"
   ]
  },
  {
   "cell_type": "code",
   "execution_count": null,
   "metadata": {},
   "outputs": [
    {
     "data": {
      "text/plain": [
       "(np.float64(-1.891301715007781), np.float64(2.914813225850367))"
      ]
     },
     "execution_count": 32,
     "metadata": {},
     "output_type": "execute_result"
    }
   ],
   "source": [
    "a, b = result[0]\n",
    "a, b"
   ]
  },
  {
   "cell_type": "markdown",
   "metadata": {
    "slideshow": {
     "slide_type": "-"
    }
   },
   "source": [
    "Now:\n",
    "* `a` contains the steepness (gradient) of the line.\n",
    "* `b` contains the offset of the line at `x=0`.\n",
    "\n",
    "Our line approximate is therefore:\n",
    "```python\n",
    " y = a * x + b\n",
    " ```\n",
    " \n",
    " The correct values are $a=-2$ and $b=3$. Let's check what we get:"
   ]
  },
  {
   "cell_type": "code",
   "execution_count": null,
   "metadata": {
    "slideshow": {
     "slide_type": "-"
    }
   },
   "outputs": [
    {
     "name": "stdout",
     "output_type": "stream",
     "text": [
      "a = -1.891301715007781\n",
      "b = 2.914813225850367\n"
     ]
    }
   ],
   "source": [
    "print(f\"a = {a}\")\n",
    "print(f\"b = {b}\")"
   ]
  },
  {
   "cell_type": "markdown",
   "metadata": {
    "collapsed": true,
    "slideshow": {
     "slide_type": "slide"
    }
   },
   "source": [
    "## The example, step by step (iv): Plot the results\n",
    "\n",
    "Use the [matplotlib](https://matplotlib.org) library to plot the result:"
   ]
  },
  {
   "cell_type": "code",
   "execution_count": null,
   "metadata": {},
   "outputs": [
    {
     "data": {
      "image/png": "[encoded data removed]",
      "text/plain": [
       "<Figure size 640x480 with 1 Axes>"
      ]
     },
     "metadata": {},
     "output_type": "display_data"
    }
   ],
   "source": [
    "import matplotlib.pyplot as plt\n",
    "\n",
    "plt.plot(x, y, \"o\", label=\"data points\")\n",
    "plt.plot(x, a * x + b, label=\"fitted lined\")\n",
    "plt.plot(x, y_line, label=\"original line\")\n",
    "plt.legend()\n",
    "plt.show()"
   ]
  },
  {
   "cell_type": "markdown",
   "metadata": {
    "slideshow": {
     "slide_type": "slide"
    }
   },
   "source": [
    "## Exercise\n",
    "\n",
    "1) Create x-values of n uniformly distributed points between 0 and 10 (choose n yourself)\n",
    "\n",
    "2) Create corresponding y-values given by y = 2*x\n",
    "\n",
    "3) Plot x versus y with matplotlib.\n",
    "\n",
    "4) Create a new set of y values given by y = exp(-0.3*x) (hint: exp might need to be imported).\n",
    "\n",
    "5) Add random noise to the y-values. hint: use the numpy random module\n",
    "\n",
    "6) Plot x versus y, and also plot x versus y with noise\n",
    "\n",
    "7) Use the y-values with added noise as data points. Run a exponential regression to find the best parameters for an exponential fit of the data. hint: polyfit\n"
   ]
  },
  {
   "cell_type": "code",
   "execution_count": null,
   "metadata": {},
   "outputs": [
    {
     "name": "stdout",
     "output_type": "stream",
     "text": [
      "[1.3690159  1.22972387 1.10983412 1.00664405 0.91782753 0.84138245\n",
      " 0.77558556 0.71895365 0.67021011 0.62825616 0.59214606 0.56106581\n",
      " 0.53431479 0.51128997 0.49147233 0.47441512 0.45973385 0.44709756\n",
      " 0.43622141 0.42686022 0.41880297]\n"
     ]
    },
    {
     "data": {
      "image/png": "[encoded data removed]",
      "text/plain": [
       "<Figure size 640x480 with 1 Axes>"
      ]
     },
     "metadata": {},
     "output_type": "display_data"
    },
    {
     "data": {
      "image/png": "[encoded data removed]",
      "text/plain": [
       "<Figure size 640x480 with 1 Axes>"
      ]
     },
     "metadata": {},
     "output_type": "display_data"
    }
   ],
   "source": [
    "x = np.linspace(0,10,21)\n",
    "\n",
    "y = 2*x\n",
    "plt.plot(x,y)\n",
    "\n",
    "y_exp= np.exp(-0.3*x)\n",
    "\n",
    "y_noise = y+np.random.normal(0,1)\n",
    "\n",
    "max_noise = y_exp\n",
    "\n",
    "\n",
    "plt.plot(x,y)\n",
    "plt.title(\"x and y with no noise\")\n",
    "plt.show()\n",
    "plt.scatter(x,y_noise)\n",
    "plt.title(\"x and y with noise\")\n",
    "plt.show()\n",
    "\n",
    "\n",
    "\n",
    "\n",
    "\n"
   ]
  },
  {
   "cell_type": "code",
   "execution_count": null,
   "metadata": {},
   "outputs": [
    {
     "data": {
      "image/png": "[encoded data removed]",
      "text/plain": [
       "<Figure size 640x480 with 1 Axes>"
      ]
     },
     "metadata": {},
     "output_type": "display_data"
    }
   ],
   "source": [
    "import numpy as np\n",
    "import matplotlib.pyplot as plt\n",
    "n = 101\n",
    "x = np.linspace(0,10,n)\n",
    "y_exp = np.exp(-0.3*x)\n",
    "y_noise = y_exp + 0.1*(np.random.random(n)-0.5)\n",
    "\n",
    "max_noise = y_exp\n",
    "condition = (y_noise - max_noise)\n",
    "X = x[y_noise>0]\n",
    "y_noise = y_noise[y_noise>0]\n",
    "\n",
    "\n",
    "\n",
    "\n",
    "y_noise_log = np.log(y_noise)\n",
    "data = np.polyfit(X,y_noise_log,deg=1)\n",
    "\n",
    "logy = data[1] + data[0]*X\n",
    "\n",
    "plt.plot(x,y_exp)\n",
    "plt.plot(x, y_exp, X, np.exp(logy),\"--\")\n",
    "plt.show()\n"
   ]
  },
  {
   "cell_type": "markdown",
   "metadata": {
    "slideshow": {
     "slide_type": "slide"
    }
   },
   "source": [
    "# Numpy arrays"
   ]
  },
  {
   "cell_type": "markdown",
   "metadata": {},
   "source": [
    "\n",
    "The most basic array type that NumPy provides is `ndarray`. These are N-dimensional homogenous collections of \"items\" of the same type."
   ]
  },
  {
   "cell_type": "markdown",
   "metadata": {},
   "source": [
    "```python\n",
    "np.array([5., 10., 11.])\n",
    "np.array([\"a\", \"b\", \"c\"])\n",
    "```"
   ]
  },
  {
   "cell_type": "markdown",
   "metadata": {
    "slideshow": {
     "slide_type": "-"
    }
   },
   "source": [
    "**Properties**:\n",
    "\n",
    "1. Arrays have a fixed size.\n",
    "2. Arrays have one associated data type. \n",
    "3. *Contents* of arrays are mutable (values in array can be changed)"
   ]
  },
  {
   "cell_type": "markdown",
   "metadata": {
    "slideshow": {
     "slide_type": "slide"
    }
   },
   "source": [
    "## Creating NumPy arrays"
   ]
  },
  {
   "cell_type": "markdown",
   "metadata": {},
   "source": [
    "Numpy provides convenience functions for creating common arrays:"
   ]
  },
  {
   "cell_type": "code",
   "execution_count": null,
   "metadata": {},
   "outputs": [
    {
     "data": {
      "text/plain": [
       "array([0., 0., 0.])"
      ]
     },
     "execution_count": 61,
     "metadata": {},
     "output_type": "execute_result"
    }
   ],
   "source": [
    "np.zeros(3)"
   ]
  },
  {
   "cell_type": "code",
   "execution_count": null,
   "metadata": {
    "slideshow": {
     "slide_type": "-"
    }
   },
   "outputs": [
    {
     "data": {
      "text/plain": [
       "array([[1., 1.],\n",
       "       [1., 1.],\n",
       "       [1., 1.]])"
      ]
     },
     "execution_count": 62,
     "metadata": {},
     "output_type": "execute_result"
    }
   ],
   "source": [
    "np.ones((3, 2))"
   ]
  },
  {
   "cell_type": "code",
   "execution_count": null,
   "metadata": {
    "slideshow": {
     "slide_type": "-"
    }
   },
   "outputs": [
    {
     "data": {
      "text/plain": [
       "array([[ 80. ,  52.8],\n",
       "       [576. , 422.4]])"
      ]
     },
     "execution_count": 64,
     "metadata": {},
     "output_type": "execute_result"
    }
   ],
   "source": [
    "np.empty((2, 2)) # uninitialised array. Might contain arbitrary data"
   ]
  },
  {
   "cell_type": "markdown",
   "metadata": {
    "slideshow": {
     "slide_type": "slide"
    }
   },
   "source": [
    "## Array with a sequence of numbers\n",
    "\n",
    "\n",
    "### linspace\n",
    "`linspace(a, b, n)` generates `n` uniformly spaced\n",
    "coordinates, starting with `a` and ending with `b`"
   ]
  },
  {
   "cell_type": "markdown",
   "metadata": {},
   "source": [
    "<img src=\"figs/numpy-linspace.png\" style=\"width: 500px;\"/>"
   ]
  },
  {
   "cell_type": "markdown",
   "metadata": {
    "slideshow": {
     "slide_type": "-"
    }
   },
   "source": [
    "Use `endpoint=False` to exclude the last point (matches `range(start, stop)`)"
   ]
  },
  {
   "cell_type": "code",
   "execution_count": null,
   "metadata": {},
   "outputs": [
    {
     "data": {
      "text/plain": [
       "array([-3.  , -1.75, -0.5 ,  0.75,  2.  ])"
      ]
     },
     "execution_count": 65,
     "metadata": {},
     "output_type": "execute_result"
    }
   ],
   "source": [
    "np.linspace(-3, 2, num=5)"
   ]
  },
  {
   "cell_type": "code",
   "execution_count": null,
   "metadata": {},
   "outputs": [
    {
     "data": {
      "text/plain": [
       "array([-3., -2., -1.,  0.,  1.])"
      ]
     },
     "execution_count": 66,
     "metadata": {},
     "output_type": "execute_result"
    }
   ],
   "source": [
    "np.linspace(-3, 2, num=5, endpoint=False)"
   ]
  },
  {
   "cell_type": "markdown",
   "metadata": {
    "slideshow": {
     "slide_type": "slide"
    }
   },
   "source": [
    "### arange"
   ]
  },
  {
   "cell_type": "markdown",
   "metadata": {
    "slideshow": {
     "slide_type": "fragment"
    }
   },
   "source": [
    "`arange` is the numpy equivalent of Python's `range`"
   ]
  },
  {
   "cell_type": "code",
   "execution_count": null,
   "metadata": {},
   "outputs": [
    {
     "data": {
      "text/plain": [
       "array([-5., -4., -3., -2., -1.,  0.,  1.,  2.,  3.,  4.,  5.])"
      ]
     },
     "execution_count": 67,
     "metadata": {},
     "output_type": "execute_result"
    }
   ],
   "source": [
    "np.arange(-5, 6, step=1, dtype=float)"
   ]
  },
  {
   "cell_type": "markdown",
   "metadata": {
    "slideshow": {
     "slide_type": "slide"
    }
   },
   "source": [
    "## Warning: `arange` can give unexpected results\n",
    "\n",
    "`arange`'s upper limit may or may not be included!\n",
    "\n",
    "Compare this examples:"
   ]
  },
  {
   "cell_type": "code",
   "execution_count": null,
   "metadata": {
    "slideshow": {
     "slide_type": "-"
    }
   },
   "outputs": [
    {
     "data": {
      "text/plain": [
       "array([8.2 , 8.25])"
      ]
     },
     "execution_count": 68,
     "metadata": {},
     "output_type": "execute_result"
    }
   ],
   "source": [
    "np.arange(8.2, 8.2+0.05, 0.05)  # OK!"
   ]
  },
  {
   "cell_type": "markdown",
   "metadata": {
    "slideshow": {
     "slide_type": "-"
    }
   },
   "source": [
    "with this one:"
   ]
  },
  {
   "cell_type": "code",
   "execution_count": null,
   "metadata": {},
   "outputs": [
    {
     "data": {
      "text/plain": [
       "array([8.2 , 8.25])"
      ]
     },
     "execution_count": 69,
     "metadata": {},
     "output_type": "execute_result"
    }
   ],
   "source": [
    "np.arange(8.2, 8.2+0.1, 0.05)   # Not OK?"
   ]
  },
  {
   "cell_type": "markdown",
   "metadata": {
    "slideshow": {
     "slide_type": "-"
    }
   },
   "source": [
    "**What is happening?**"
   ]
  },
  {
   "cell_type": "markdown",
   "metadata": {
    "slideshow": {
     "slide_type": "-"
    }
   },
   "source": [
    "**Reason**: An accumulated round-off error in the second case:"
   ]
  },
  {
   "cell_type": "code",
   "execution_count": null,
   "metadata": {},
   "outputs": [
    {
     "data": {
      "text/plain": [
       "8.25"
      ]
     },
     "execution_count": 70,
     "metadata": {},
     "output_type": "execute_result"
    }
   ],
   "source": [
    "8.2 + 0.05"
   ]
  },
  {
   "cell_type": "code",
   "execution_count": null,
   "metadata": {
    "slideshow": {
     "slide_type": "-"
    }
   },
   "outputs": [
    {
     "data": {
      "text/plain": [
       "8.3000001"
      ]
     },
     "execution_count": 83,
     "metadata": {},
     "output_type": "execute_result"
    }
   ],
   "source": [
    "8.2 + 0.1000001"
   ]
  },
  {
   "cell_type": "markdown",
   "metadata": {
    "slideshow": {
     "slide_type": "slide"
    }
   },
   "source": [
    "# Array attributes"
   ]
  },
  {
   "cell_type": "markdown",
   "metadata": {
    "slideshow": {
     "slide_type": "-"
    }
   },
   "source": [
    "## Important array attributes"
   ]
  },
  {
   "cell_type": "markdown",
   "metadata": {},
   "source": [
    "Given an array `a`, you have access to some useful attributes:\n",
    "\n",
    "|Attribute|Description|\n",
    "|--|-------------------------------|\n",
    "|*a.data* |Buffer to raw data|\n",
    "|*a.dtype*|Type information of data|\n",
    "|*a.ndim* |Number of dimensions|\n",
    "|*a.shape*|Tuple representing rank of array in each direction|\n",
    "|*a.size* |Total number of elements|\n",
    "|*a.nbytes* |Total number of bytes allocated for array|"
   ]
  },
  {
   "cell_type": "markdown",
   "metadata": {
    "slideshow": {
     "slide_type": "-"
    }
   },
   "source": [
    "**Example**: given an array a, make a new array `x` of same dimension and data type:"
   ]
  },
  {
   "cell_type": "code",
   "execution_count": null,
   "metadata": {},
   "outputs": [
    {
     "data": {
      "text/plain": [
       "336"
      ]
     },
     "execution_count": 89,
     "metadata": {},
     "output_type": "execute_result"
    }
   ],
   "source": [
    "np.zeros(A.shape, A.dtype)\n",
    "A.nbytes"
   ]
  },
  {
   "cell_type": "code",
   "execution_count": null,
   "metadata": {},
   "outputs": [
    {
     "data": {
      "text/plain": [
       "array([[0., 0.],\n",
       "       [0., 0.],\n",
       "       [0., 0.],\n",
       "       [0., 0.],\n",
       "       [0., 0.],\n",
       "       [0., 0.],\n",
       "       [0., 0.],\n",
       "       [0., 0.],\n",
       "       [0., 0.],\n",
       "       [0., 0.],\n",
       "       [0., 0.],\n",
       "       [0., 0.],\n",
       "       [0., 0.],\n",
       "       [0., 0.],\n",
       "       [0., 0.],\n",
       "       [0., 0.],\n",
       "       [0., 0.],\n",
       "       [0., 0.],\n",
       "       [0., 0.],\n",
       "       [0., 0.],\n",
       "       [0., 0.]])"
      ]
     },
     "execution_count": 90,
     "metadata": {},
     "output_type": "execute_result"
    }
   ],
   "source": [
    "np.zeros_like(A)"
   ]
  },
  {
   "cell_type": "markdown",
   "metadata": {
    "slideshow": {
     "slide_type": "slide"
    }
   },
   "source": [
    "## dtypes: the type of the arrays elements"
   ]
  },
  {
   "cell_type": "markdown",
   "metadata": {
    "slideshow": {
     "slide_type": "-"
    }
   },
   "source": [
    "Use the `dtype` argument to create an array of a specific type:\n",
    "```python\n",
    "np.zeros(3, dtype=np.int)       # integer datatype\n",
    "np.ones(3, dtype=np.float32)    # single precision\n",
    "np.ones(3, dtype=np.float64)    # double precision\n",
    "np.array(3, dtype=np.complex)   # complex numbers\n",
    "```\n",
    "A full list of valid types can be found [here: https://docs.scipy.org/doc/numpy/reference/arrays.dtypes.html](https://docs.scipy.org/doc/numpy/reference/arrays.dtypes.html)."
   ]
  },
  {
   "cell_type": "markdown",
   "metadata": {
    "slideshow": {
     "slide_type": "slide"
    }
   },
   "source": [
    "## **By default**, numpy arrays will automatically select a suitable type to store the elements:"
   ]
  },
  {
   "cell_type": "markdown",
   "metadata": {
    "slideshow": {
     "slide_type": "-"
    }
   },
   "source": [
    "The type of the array is automatically determined:\n",
    "\n",
    "Array of integers:\n",
    "\n",
    "```python\n",
    "np.array([1, 2, 3])\n",
    "```\n",
    "\n",
    "Array of floats:\n",
    "```python\n",
    "np.array([1.0, 2, 3]) \n",
    "```\n",
    "Array of automatically converted strings:\n",
    "```python\n",
    "np.array([1.0, 2, \"a\"])  # array of strings  of dtype \"<U32\" (unicode strings with max 32 characters.)\n",
    "```"
   ]
  },
  {
   "cell_type": "markdown",
   "metadata": {
    "slideshow": {
     "slide_type": "slide"
    }
   },
   "source": [
    "# More constructions of numpy arrays"
   ]
  },
  {
   "cell_type": "markdown",
   "metadata": {
    "slideshow": {
     "slide_type": "-"
    }
   },
   "source": [
    "## Python lists and numpy arrays"
   ]
  },
  {
   "cell_type": "markdown",
   "metadata": {
    "slideshow": {
     "slide_type": "-"
    }
   },
   "source": [
    "### From list to array\n",
    "`array(list, [datatype])` generates a numpy.array from a list:"
   ]
  },
  {
   "cell_type": "code",
   "execution_count": null,
   "metadata": {},
   "outputs": [],
   "source": [
    "mylist = [0, 1.2, 4, -9.1, 5, 8]\n",
    "a = np.array(mylist)"
   ]
  },
  {
   "cell_type": "markdown",
   "metadata": {
    "slideshow": {
     "slide_type": "-"
    }
   },
   "source": [
    "### From array to list"
   ]
  },
  {
   "cell_type": "code",
   "execution_count": null,
   "metadata": {
    "slideshow": {
     "slide_type": "-"
    }
   },
   "outputs": [
    {
     "data": {
      "text/plain": [
       "[0.0, 1.2, 4.0, -9.1, 5.0, 8.0]"
      ]
     },
     "execution_count": 92,
     "metadata": {},
     "output_type": "execute_result"
    }
   ],
   "source": [
    "a.tolist()"
   ]
  },
  {
   "cell_type": "markdown",
   "metadata": {
    "slideshow": {
     "slide_type": "slide"
    }
   },
   "source": [
    "## From \"anything\" to NumPy array\n",
    "\n",
    "```python\n",
    "asarray(a)\n",
    "```\n",
    "\n",
    "converts \"any\" object `a` to a NumPy array if possible/necessary, tries to avoid copying.\n",
    "\n",
    "Works with int's, list's, tuple's, numpy.array's, ...,\n"
   ]
  },
  {
   "cell_type": "markdown",
   "metadata": {
    "slideshow": {
     "slide_type": "-"
    }
   },
   "source": [
    "**Example**: Use asarray to allow flexible arguments in functions:"
   ]
  },
  {
   "cell_type": "code",
   "execution_count": null,
   "metadata": {},
   "outputs": [
    {
     "name": "stdout",
     "output_type": "stream",
     "text": [
      "[1, 2, 3] <class 'list'> :\n",
      "   3 * a - 5 = [-2  1  4]\n",
      "[0. 0. 0. 0. 0. 0. 0. 0. 0. 0.] <class 'numpy.ndarray'> :\n",
      "   3 * a - 5 = [-5. -5. -5. -5. -5. -5. -5. -5. -5. -5.]\n",
      "-4.5 <class 'float'> :\n",
      "   3 * a - 5 = -18.5\n",
      "6 <class 'int'> :\n",
      "   3 * a - 5 = 13\n"
     ]
    }
   ],
   "source": [
    "def myfunc(some_sequence):\n",
    "    a = np.asarray(some_sequence)\n",
    "    return 3 * a - 5\n",
    "\n",
    "\n",
    "\n",
    "for input_item in (\n",
    "    [1, 2, 3],  # list argument\n",
    "    np.zeros(10), # array\n",
    "    -4.5, # float\n",
    "    6, # int\n",
    "):\n",
    "    print(input_item, type(input_item), \":\")\n",
    "    print(\"   3 * a - 5 =\", myfunc(input_item))\n"
   ]
  },
  {
   "cell_type": "markdown",
   "metadata": {
    "slideshow": {
     "slide_type": "slide"
    }
   },
   "source": [
    "# Higher-dimensional arrays"
   ]
  },
  {
   "cell_type": "markdown",
   "metadata": {
    "slideshow": {
     "slide_type": "-"
    }
   },
   "source": [
    "## Creating higher-dimensional arrays"
   ]
  },
  {
   "cell_type": "markdown",
   "metadata": {},
   "source": [
    "Passing a tuple to an array constructor results in a higher-dimensional array:"
   ]
  },
  {
   "cell_type": "code",
   "execution_count": null,
   "metadata": {},
   "outputs": [
    {
     "data": {
      "text/plain": [
       "array([[[0., 0., 0.],\n",
       "        [0., 0., 0.],\n",
       "        [0., 0., 0.]],\n",
       "\n",
       "       [[0., 0., 0.],\n",
       "        [0., 0., 0.],\n",
       "        [0., 0., 0.]]])"
      ]
     },
     "execution_count": 95,
     "metadata": {},
     "output_type": "execute_result"
    }
   ],
   "source": [
    "np.zeros((2, 3, 3))     # 2*3*3 dim. array"
   ]
  },
  {
   "cell_type": "markdown",
   "metadata": {
    "slideshow": {
     "slide_type": "-"
    }
   },
   "source": [
    "A two-dimensional array from two one-dimensional Python lists:"
   ]
  },
  {
   "cell_type": "code",
   "execution_count": null,
   "metadata": {},
   "outputs": [
    {
     "data": {
      "text/plain": [
       "array([[ 0. ,  0.5,  1. ],\n",
       "       [-6.1, -2. ,  1.2]])"
      ]
     },
     "execution_count": 96,
     "metadata": {},
     "output_type": "execute_result"
    }
   ],
   "source": [
    "x = [0, 0.5, 1]\n",
    "y = [-6.1, -2, 1.2]  # Python lists\n",
    "np.array([x, y])        # form array with x and y as rows"
   ]
  },
  {
   "cell_type": "markdown",
   "metadata": {
    "slideshow": {
     "slide_type": "-"
    }
   },
   "source": [
    "Numpy allows up to 32 dimensions. You can retrieve the shape of an array with"
   ]
  },
  {
   "cell_type": "code",
   "execution_count": null,
   "metadata": {
    "slideshow": {
     "slide_type": "-"
    }
   },
   "outputs": [],
   "source": [
    "a = np.zeros((2, 3, 3))\n",
    "a.shape"
   ]
  },
  {
   "cell_type": "markdown",
   "metadata": {
    "slideshow": {
     "slide_type": "slide"
    }
   },
   "source": [
    "## Changing array dimensions"
   ]
  },
  {
   "cell_type": "markdown",
   "metadata": {},
   "source": [
    "Use `reshape` to reinterpret the same data as a new shape *without copying* data:"
   ]
  },
  {
   "cell_type": "code",
   "execution_count": null,
   "metadata": {},
   "outputs": [
    {
     "data": {
      "text/plain": [
       "array([ 0. ,  1.2,  4. , -9.1,  5. ,  2. ])"
      ]
     },
     "execution_count": 106,
     "metadata": {},
     "output_type": "execute_result"
    }
   ],
   "source": [
    "a = np.array([0, 1.2, 4, -9.1, 5, 2])\n",
    "a"
   ]
  },
  {
   "cell_type": "code",
   "execution_count": null,
   "metadata": {},
   "outputs": [
    {
     "data": {
      "text/plain": [
       "array([[ 0. ,  1.2,  4. ],\n",
       "       [-9.1,  5. ,  2. ]])"
      ]
     },
     "execution_count": 107,
     "metadata": {},
     "output_type": "execute_result"
    }
   ],
   "source": [
    "b = a.reshape((2, 3)) # turn a into a 2x3 matrix\n",
    "b"
   ]
  },
  {
   "cell_type": "markdown",
   "metadata": {
    "slideshow": {
     "slide_type": "-"
    }
   },
   "source": [
    "The reshaped array points to the same data vector, i.e. no data is copied:"
   ]
  },
  {
   "cell_type": "code",
   "execution_count": null,
   "metadata": {},
   "outputs": [
    {
     "data": {
      "text/plain": [
       "np.float64(0.0)"
      ]
     },
     "execution_count": 108,
     "metadata": {},
     "output_type": "execute_result"
    }
   ],
   "source": [
    "b[0,0]"
   ]
  },
  {
   "cell_type": "code",
   "execution_count": null,
   "metadata": {},
   "outputs": [
    {
     "name": "stdout",
     "output_type": "stream",
     "text": [
      "a = [ 0.   1.2  4.  -9.1  5.   2. ]\n",
      "b = \n",
      "[[-10.    1.2   4. ]\n",
      " [ -9.1   5.    2. ]]\n"
     ]
    }
   ],
   "source": [
    "b[0,0] = -10\n",
    "print(f\"a = {a}\")\n",
    "print(f\"b = \\n{b}\")\n"
   ]
  },
  {
   "cell_type": "markdown",
   "metadata": {
    "slideshow": {
     "slide_type": "slide"
    }
   },
   "source": [
    "## NumPy data ordering\n",
    "\n",
    "Numpy allows to store array in *C* or *FORTRAN* ordering:\n",
    "\n",
    "**Note**: For one-dimensional arrays, the orders are equivalent."
   ]
  },
  {
   "cell_type": "markdown",
   "metadata": {
    "slideshow": {
     "slide_type": "-"
    }
   },
   "source": [
    "The order can be chosen with the `order` flag:"
   ]
  },
  {
   "cell_type": "code",
   "execution_count": null,
   "metadata": {},
   "outputs": [],
   "source": [
    "a = np.asarray([[1, 2], [3, 4]], order='F')  # Fortran order\n",
    "a.flags                       # Check if Fortran ordering is used"
   ]
  },
  {
   "cell_type": "markdown",
   "metadata": {
    "slideshow": {
     "slide_type": "slide"
    }
   },
   "source": [
    "## NumPy data ordering (2)"
   ]
  },
  {
   "cell_type": "markdown",
   "metadata": {
    "slideshow": {
     "slide_type": "-"
    }
   },
   "source": [
    "Numpy automatically converts the ordering when necessary:"
   ]
  },
  {
   "cell_type": "code",
   "execution_count": null,
   "metadata": {},
   "outputs": [
    {
     "name": "stdout",
     "output_type": "stream",
     "text": [
      "[[2 4]\n",
      " [6 8]]\n"
     ]
    }
   ],
   "source": [
    "A = np.array([[1, 2], [3, 4]], order=\"C\")\n",
    "B = np.array([[1, 2], [3, 4]], order=\"F\")\n",
    "print(A + B)"
   ]
  },
  {
   "cell_type": "markdown",
   "metadata": {
    "slideshow": {
     "slide_type": "-"
    }
   },
   "source": [
    "Transposing a matrix is perfomed by swapping the ordering (without data copying):"
   ]
  },
  {
   "cell_type": "code",
   "execution_count": null,
   "metadata": {},
   "outputs": [],
   "source": [
    "A.flags"
   ]
  },
  {
   "cell_type": "code",
   "execution_count": null,
   "metadata": {},
   "outputs": [],
   "source": [
    "B.flags"
   ]
  },
  {
   "cell_type": "code",
   "execution_count": null,
   "metadata": {},
   "outputs": [
    {
     "data": {
      "text/plain": [
       "  C_CONTIGUOUS : False\n",
       "  F_CONTIGUOUS : True\n",
       "  OWNDATA : False\n",
       "  WRITEABLE : True\n",
       "  ALIGNED : True\n",
       "  WRITEBACKIFCOPY : False"
      ]
     },
     "execution_count": 111,
     "metadata": {},
     "output_type": "execute_result"
    }
   ],
   "source": [
    "A.transpose().flags"
   ]
  },
  {
   "cell_type": "markdown",
   "metadata": {
    "slideshow": {
     "slide_type": "slide"
    }
   },
   "source": [
    "# Array indexing"
   ]
  },
  {
   "cell_type": "markdown",
   "metadata": {
    "slideshow": {
     "slide_type": "-"
    }
   },
   "source": [
    "## Basic indexing\n",
    "\n",
    "The indicing syntax that we are know from list's also work for array's."
   ]
  },
  {
   "cell_type": "markdown",
   "metadata": {
    "slideshow": {
     "slide_type": "-"
    }
   },
   "source": [
    "### Getting values\n",
    "Slicing:\n",
    "```python\n",
    "a[1:4]           # Get 2nd to 4th element\n",
    "```\n",
    "Fancy indexing:\n",
    "```python\n",
    "a[[0, 2, 3]]     # Get entries 0, 2 and 3\n",
    "```\n",
    "**Important**: Slicing returns a *view* to the original array, i.e. no data is copied. Fancy indexing always returns a copy of the array."
   ]
  },
  {
   "cell_type": "markdown",
   "metadata": {
    "slideshow": {
     "slide_type": "-"
    }
   },
   "source": [
    "### Setting values\n",
    "```python\n",
    "a[2:4] = -1      # set a[2] and a[3] equal to -1\n",
    "a[-1]  = a[0]    # set last equal to first element\n",
    "a[:]   = 0       # set all elements of a equal to 0\n",
    "```"
   ]
  },
  {
   "cell_type": "markdown",
   "metadata": {
    "slideshow": {
     "slide_type": "slide"
    }
   },
   "source": [
    "## Multi-dimensional indexing\n",
    "\n",
    "Multi-dimensional indexing has the same syntax as with list's:\n",
    "```python\n",
    "a = ones([2, 3]) # create a 2x3 matrix \n",
    "                 # (two rows, three columns)\n",
    "\n",
    "a[1,2] = 10      # set element (1,2) (2nd row, 3rd column)\n",
    "a[1][2] = 10     # equivalent syntax (slower)\n",
    "a[:,2] = 10      # set all elements in 3rd column\n",
    "a[1,:] = 10      # set all elements in 2nd row\n",
    "a[:,:] = 10       # set all elements \n",
    "```"
   ]
  },
  {
   "cell_type": "markdown",
   "metadata": {
    "slideshow": {
     "slide_type": "slide"
    }
   },
   "source": [
    "## Example: extracting sub-matrices with slicing"
   ]
  },
  {
   "cell_type": "markdown",
   "metadata": {},
   "source": [
    "Given this matrix:"
   ]
  },
  {
   "cell_type": "code",
   "execution_count": null,
   "metadata": {},
   "outputs": [
    {
     "name": "stdout",
     "output_type": "stream",
     "text": [
      "[[ 0.  1.  2.  3.  4.  5.]\n",
      " [ 6.  7.  8.  9. 10. 11.]\n",
      " [12. 13. 14. 15. 16. 17.]\n",
      " [18. 19. 20. 21. 22. 23.]\n",
      " [24. 25. 26. 27. 28. 29.]]\n"
     ]
    }
   ],
   "source": [
    "a = np.linspace(0, 29, 30).reshape(5, 6)\n",
    "print(a)"
   ]
  },
  {
   "cell_type": "markdown",
   "metadata": {
    "slideshow": {
     "slide_type": "-"
    }
   },
   "source": [
    "we can use slicing to get a *view* of a subset of this matrix.\n",
    "For example to get the submatrix consisting of row 2 and 3 and every second column, we could use:"
   ]
  },
  {
   "cell_type": "code",
   "execution_count": null,
   "metadata": {},
   "outputs": [
    {
     "data": {
      "text/plain": [
       "array([[ 0.,  1.,  2.,  3.,  4.,  5.],\n",
       "       [ 0.,  7.,  0.,  9.,  0., 11.],\n",
       "       [ 0., 13.,  0., 15.,  0., 17.],\n",
       "       [18., 19., 20., 21., 22., 23.],\n",
       "       [24., 25., 26., 27., 28., 29.]])"
      ]
     },
     "execution_count": 114,
     "metadata": {},
     "output_type": "execute_result"
    }
   ],
   "source": [
    "a[1:3, ::2] = 0  # a[i,j] for i=1,2 and j=0,2,4\n",
    "\n",
    "a"
   ]
  },
  {
   "cell_type": "markdown",
   "metadata": {
    "slideshow": {
     "slide_type": "-"
    }
   },
   "source": [
    "To get the submatrix consisting of every 3rd row, and every second column starting from the third column, we would use:"
   ]
  },
  {
   "cell_type": "code",
   "execution_count": null,
   "metadata": {},
   "outputs": [
    {
     "data": {
      "text/plain": [
       "array([[ 2.,  4.],\n",
       "       [20., 22.]])"
      ]
     },
     "execution_count": 115,
     "metadata": {},
     "output_type": "execute_result"
    }
   ],
   "source": [
    "a[::3, 2::2]  # a[i,j] for i=0,3 and j=2,4"
   ]
  },
  {
   "cell_type": "markdown",
   "metadata": {
    "slideshow": {
     "slide_type": "slide"
    }
   },
   "source": [
    "## Slices create *views* of array data\n",
    "\n",
    "Assigning to a sliced array will change the original array:"
   ]
  },
  {
   "cell_type": "code",
   "execution_count": null,
   "metadata": {},
   "outputs": [
    {
     "name": "stdout",
     "output_type": "stream",
     "text": [
      "[[1.         1.        ]\n",
      " [1.         1.        ]\n",
      " [3.14159265 1.        ]]\n"
     ]
    }
   ],
   "source": [
    "a = np.ones([3, 2])\n",
    "b = a[2, :]  # get a view onto the 3rd row\n",
    "b[0] = np.pi  # assigning to b is reflected in a!\n",
    "print(a)"
   ]
  },
  {
   "cell_type": "markdown",
   "metadata": {
    "slideshow": {
     "slide_type": "-"
    }
   },
   "source": [
    "To avoid referencing via slices (if needed) use copy:\n",
    "```python\n",
    "b = a[2,:].copy()  # b has its own vector structure\n",
    "```"
   ]
  },
  {
   "cell_type": "markdown",
   "metadata": {
    "slideshow": {
     "slide_type": "-"
    }
   },
   "source": [
    "**Note**: This behaviour is different to Python `lists`, where `a[:]` makes always a copy"
   ]
  },
  {
   "cell_type": "markdown",
   "metadata": {
    "slideshow": {
     "slide_type": "slide"
    }
   },
   "source": [
    "# Loops\n"
   ]
  },
  {
   "cell_type": "markdown",
   "metadata": {
    "slideshow": {
     "slide_type": "-"
    }
   },
   "source": [
    "## Loops over arrays using indices\n",
    "\n",
    "If we know the dimension of the array, we can use a nested loop to iterate over all array elements:\n"
   ]
  },
  {
   "cell_type": "code",
   "execution_count": null,
   "metadata": {},
   "outputs": [
    {
     "name": "stdout",
     "output_type": "stream",
     "text": [
      "a[0, 0] = 2.0\n",
      "a[0, 1] = 6.0\n",
      "\n",
      "a[1, 0] = 4.0\n",
      "a[1, 1] = 12.0\n",
      "\n",
      "a[2, 0] = 6.0\n",
      "a[2, 1] = 18.0\n",
      "\n"
     ]
    }
   ],
   "source": [
    "for i in range(a.shape[0]):\n",
    "    for j in range(a.shape[1]):\n",
    "        a[i, j] = (i + 1) * (j + 1) * (j + 2)\n",
    "        print(f\"a[{i}, {j}] = {a[i, j]}\")\n",
    "    print()  # empty line after each row"
   ]
  },
  {
   "cell_type": "markdown",
   "metadata": {
    "slideshow": {
     "slide_type": "-"
    }
   },
   "source": [
    "* Is there a more *Pythonic* way?\n",
    "* What if we do not know the dimension of the array?"
   ]
  },
  {
   "cell_type": "markdown",
   "metadata": {
    "slideshow": {
     "slide_type": "slide"
    }
   },
   "source": [
    "## Better: Use standard Python loops"
   ]
  },
  {
   "cell_type": "markdown",
   "metadata": {
    "slideshow": {
     "slide_type": "-"
    }
   },
   "source": [
    "A standard for loop iterates over the first index. "
   ]
  },
  {
   "cell_type": "markdown",
   "metadata": {
    "slideshow": {
     "slide_type": "-"
    }
   },
   "source": [
    "**Example:** Looping over each element in a matrix:\n",
    "```python\n",
    "for row in a:\n",
    "    for element in row:\n",
    "         my_func(element)\n",
    "```"
   ]
  },
  {
   "cell_type": "markdown",
   "metadata": {
    "slideshow": {
     "slide_type": "slide"
    }
   },
   "source": [
    "## For unknown dimensions loop over the flattened array"
   ]
  },
  {
   "cell_type": "markdown",
   "metadata": {},
   "source": [
    "View array as one-dimensional and iterate over all elements:\n",
    "```python\n",
    "for element in a.ravel():\n",
    "    my_func(element)\n",
    "```\n",
    "ravel() returns a *flattened array*, (1D version). Might return a copy if necessary. "
   ]
  },
  {
   "cell_type": "markdown",
   "metadata": {
    "slideshow": {
     "slide_type": "-"
    }
   },
   "source": [
    "**Advice**: Use `ravel()` only when reading elements, for assigning it is better to use `shape` or `reshape`."
   ]
  },
  {
   "cell_type": "markdown",
   "metadata": {
    "slideshow": {
     "slide_type": "slide"
    }
   },
   "source": [
    "# Numpy Array computations"
   ]
  },
  {
   "cell_type": "markdown",
   "metadata": {
    "slideshow": {
     "slide_type": "-"
    }
   },
   "source": [
    "## Arithmetic operations\n",
    "\n",
    "Arithmetic operations can be used with arrays:"
   ]
  },
  {
   "cell_type": "code",
   "execution_count": null,
   "metadata": {},
   "outputs": [],
   "source": [
    "import numpy as np\n",
    "from math import sin, exp\n",
    "a = np.linspace(0, 10, 11)\n",
    "\n",
    "b = 3 * a - 1\n",
    "c = np.sin(b)\n",
    "d = np.exp(c)\n",
    "\n",
    "print(b,)"
   ]
  },
  {
   "cell_type": "markdown",
   "metadata": {},
   "source": [
    "**Note**: most arithmetic operations in numpy are performed **elementwise**."
   ]
  },
  {
   "cell_type": "markdown",
   "metadata": {
    "slideshow": {
     "slide_type": "slide"
    }
   },
   "source": [
    "## Array operations are much faster than element-wise operations"
   ]
  },
  {
   "cell_type": "markdown",
   "metadata": {},
   "source": [
    "Let's compare the array versus element-wise operation on a 10 million large array."
   ]
  },
  {
   "cell_type": "markdown",
   "metadata": {
    "slideshow": {
     "slide_type": "slide"
    }
   },
   "source": [
    "#### Element wise implementation"
   ]
  },
  {
   "cell_type": "code",
   "execution_count": null,
   "metadata": {},
   "outputs": [
    {
     "name": "stdout",
     "output_type": "stream",
     "text": [
      "time spent on for loop :0.0548701286315918\n",
      "CPU times: total: 5.81 s\n",
      "Wall time: 8.26 s\n"
     ]
    }
   ],
   "source": [
    "%%time\n",
    "import numpy as np\n",
    "import time \n",
    "a = np.linspace(0, 1, int(1e07))  # create a large array\n",
    "\n",
    "b = np.empty_like(a)\n",
    "\n",
    "t0 = time.time()\n",
    "for i in range(a.size):\n",
    "    b[i] = 3 * a[i] - 1\n",
    "\n",
    "T_1 =time.time()-t0\n",
    "\n",
    "print(f\"time spent on for loop :{T}\")"
   ]
  },
  {
   "cell_type": "markdown",
   "metadata": {},
   "source": [
    "Runtime ca 3(?) seconds."
   ]
  },
  {
   "cell_type": "markdown",
   "metadata": {
    "slideshow": {
     "slide_type": "slide"
    }
   },
   "source": [
    "#### Implementation with array operations"
   ]
  },
  {
   "cell_type": "code",
   "execution_count": null,
   "metadata": {
    "slideshow": {
     "slide_type": "-"
    }
   },
   "outputs": [
    {
     "name": "stdout",
     "output_type": "stream",
     "text": [
      "CPU times: total: 0 ns\n",
      "Wall time: 4.29 μs\n",
      " this was 149.67606792229495 faster\n"
     ]
    }
   ],
   "source": [
    "%time\n",
    "import time \n",
    "t0 = time.time()\n",
    "b = 3 * a - 1\n",
    "T = time.time()-t0\n",
    "\n",
    "T\n",
    "\n",
    "print(f\" this was {T_1/T} faster\")"
   ]
  },
  {
   "cell_type": "markdown",
   "metadata": {},
   "source": [
    "Runtime ca 0.02(?) seconds!"
   ]
  },
  {
   "cell_type": "markdown",
   "metadata": {
    "slideshow": {
     "slide_type": "-"
    }
   },
   "source": [
    "A ca. 100x speed-up!"
   ]
  },
  {
   "cell_type": "markdown",
   "metadata": {
    "slideshow": {
     "slide_type": "slide"
    }
   },
   "source": [
    "# Vectorization user-defined functions"
   ]
  },
  {
   "cell_type": "markdown",
   "metadata": {},
   "source": [
    "Imagine you have implemented your own function and would like to apply it to all elements in an array:"
   ]
  },
  {
   "cell_type": "code",
   "execution_count": null,
   "metadata": {},
   "outputs": [
    {
     "ename": "ValueError",
     "evalue": "The truth value of an array with more than one element is ambiguous. Use a.any() or a.all()",
     "output_type": "error",
     "traceback": [
      "\u001b[1;31m---------------------------------------------------------------------------\u001b[0m",
      "\u001b[1;31mValueError\u001b[0m                                Traceback (most recent call last)",
      "Cell \u001b[1;32mIn[131], line 11\u001b[0m\n\u001b[0;32m      7\u001b[0m     \u001b[38;5;28;01melse\u001b[39;00m:\n\u001b[0;32m      8\u001b[0m         \u001b[38;5;28;01mreturn\u001b[39;00m x \u001b[38;5;241m*\u001b[39m\u001b[38;5;241m*\u001b[39m \u001b[38;5;241m2\u001b[39m\n\u001b[1;32m---> 11\u001b[0m myfunc(a)\n",
      "Cell \u001b[1;32mIn[131], line 5\u001b[0m, in \u001b[0;36mmyfunc\u001b[1;34m(x)\u001b[0m\n\u001b[0;32m      4\u001b[0m \u001b[38;5;28;01mdef\u001b[39;00m\u001b[38;5;250m \u001b[39m\u001b[38;5;21mmyfunc\u001b[39m(x):\n\u001b[1;32m----> 5\u001b[0m     \u001b[38;5;28;01mif\u001b[39;00m x[x\u001b[38;5;241m>\u001b[39m\u001b[38;5;241m0\u001b[39m]:\n\u001b[0;32m      6\u001b[0m         \u001b[38;5;28;01mreturn\u001b[39;00m \u001b[38;5;241m0\u001b[39m\n\u001b[0;32m      7\u001b[0m     \u001b[38;5;28;01melse\u001b[39;00m:\n",
      "\u001b[1;31mValueError\u001b[0m: The truth value of an array with more than one element is ambiguous. Use a.any() or a.all()"
     ]
    }
   ],
   "source": [
    "a = np.linspace(-1, 1, 1000000)\n",
    "\n",
    "\n",
    "def myfunc(x):\n",
    "    if x[x>0]:\n",
    "        return x[x>0]\n",
    "    else:\n",
    "        return x ** 2\n",
    "\n",
    "\n",
    "myfunc(a)  # ??"
   ]
  },
  {
   "cell_type": "markdown",
   "metadata": {
    "slideshow": {
     "slide_type": "-"
    }
   },
   "source": [
    "**Problem**: myfunc operates on the entire array instead of elementwise operations."
   ]
  },
  {
   "cell_type": "markdown",
   "metadata": {
    "slideshow": {
     "slide_type": "slide"
    }
   },
   "source": [
    "# Potential solution to vectorization user-defined functions\n",
    "\n",
    "Loop over each array element and call myfunc "
   ]
  },
  {
   "cell_type": "code",
   "execution_count": null,
   "metadata": {},
   "outputs": [
    {
     "name": "stderr",
     "output_type": "stream",
     "text": [
      "C:\\Users\\pvwol\\AppData\\Local\\Temp\\ipykernel_30656\\1546651760.py:5: DeprecationWarning: The truth value of an empty array is ambiguous. Returning False, but in future this will result in an error. Use `array.size > 0` to check that an array is not empty.\n",
      "  if x[x>0]:\n"
     ]
    },
    {
     "name": "stdout",
     "output_type": "stream",
     "text": [
      "CPU times: total: 2.84 s\n",
      "Wall time: 4.01 s\n"
     ]
    }
   ],
   "source": [
    "%%time\n",
    "out = np.empty(len(a))\n",
    "\n",
    "for i, ele in np.ndenumerate(a):\n",
    "    out[i] = myfunc(ele) "
   ]
  },
  {
   "cell_type": "markdown",
   "metadata": {
    "slideshow": {
     "slide_type": "-"
    }
   },
   "source": [
    "Runtime ca 0.4(?) s\n",
    "\n",
    "**This is slow**!"
   ]
  },
  {
   "cell_type": "markdown",
   "metadata": {
    "collapsed": true,
    "slideshow": {
     "slide_type": "slide"
    }
   },
   "source": [
    "# Better solution\n",
    "\n",
    "Convert myfunc to a *vectorized* function: "
   ]
  },
  {
   "cell_type": "code",
   "execution_count": null,
   "metadata": {},
   "outputs": [],
   "source": [
    "%%time\n",
    "vfunc = np.vectorize(myfunc)\n",
    "out2 = vfunc(a)          "
   ]
  },
  {
   "cell_type": "markdown",
   "metadata": {
    "slideshow": {
     "slide_type": "subslide"
    }
   },
   "source": [
    "Runtime ca 0.1 s\n",
    "\n",
    "**Much faster**! "
   ]
  },
  {
   "cell_type": "markdown",
   "metadata": {
    "slideshow": {
     "slide_type": "slide"
    }
   },
   "source": [
    "# Plotting with matplotlib"
   ]
  },
  {
   "cell_type": "markdown",
   "metadata": {},
   "source": [
    "Matplotlib is the most popular package in SciPy for creating publication quality figures. The easiest way to use matplotlib is to import the submodule \"pyplot\"."
   ]
  },
  {
   "cell_type": "markdown",
   "metadata": {
    "slideshow": {
     "slide_type": "-"
    }
   },
   "source": [
    "## Learning resources\n",
    "\n",
    "* [Matplotlib tutorial](http://www.labri.fr/perso/nrougier/teaching/matplotlib) by Nicolas P. Rougier\n",
    "* [The Matplotlib Gallery:](http://matplotlib.org/gallery.html)\n"
   ]
  },
  {
   "cell_type": "markdown",
   "metadata": {
    "slideshow": {
     "slide_type": "slide"
    }
   },
   "source": [
    "# A simple plot\n"
   ]
  },
  {
   "cell_type": "markdown",
   "metadata": {
    "slideshow": {
     "slide_type": "-"
    }
   },
   "source": [
    "Plotting one, or multiple sets of data is done with:"
   ]
  },
  {
   "cell_type": "code",
   "execution_count": null,
   "metadata": {},
   "outputs": [],
   "source": [
    "import matplotlib.pyplot as plt\n",
    "import numpy as np\n",
    "\n",
    "X = np.linspace(-np.pi, np.pi, 20, endpoint=True)\n",
    "Y = np.cos(X)\n",
    "Z = np.exp(X)\n",
    "\n",
    "plt.plot(X, Y)\n",
    "plt.plot(X, Z)\n",
    "plt.plot(X, 2*Z)\n",
    "plt.show()"
   ]
  },
  {
   "cell_type": "markdown",
   "metadata": {
    "slideshow": {
     "slide_type": "slide"
    }
   },
   "source": [
    "# Adjusting your plot\n"
   ]
  },
  {
   "cell_type": "markdown",
   "metadata": {},
   "source": [
    "Typical adjustments:\n",
    "* Change line color, thickness, type\n",
    "* Change axis settings\n",
    "* Add labels, legends\n",
    "* ..."
   ]
  },
  {
   "cell_type": "code",
   "execution_count": null,
   "metadata": {},
   "outputs": [],
   "source": [
    "plt.plot(\n",
    "    X, Y, label=\"cos\", color=\"blue\", linewidth=2.5, linestyle=\"-\"\n",
    ")  # Add labels for the legend\n",
    "plt.plot(X, Z, label=\"exp\", color=\"red\", linewidth=2.5, linestyle=\"--\")\n",
    "\n",
    "plt.xlabel(\"x\")  # Add labels for the axis\n",
    "plt.ylabel(\"function value\")  # Add labels for the axis\n",
    "\n",
    "plt.legend(loc='upper left')\n",
    "plt.savefig(\"file.pdf\") # save to files for use in papers, etc."
   ]
  },
  {
   "cell_type": "markdown",
   "metadata": {
    "slideshow": {
     "slide_type": "slide"
    }
   },
   "source": [
    "# Other types of plots"
   ]
  },
  {
   "cell_type": "markdown",
   "metadata": {},
   "source": [
    "|Function name|Plot type|\n",
    "|--|-------------------------------|\n",
    "|*pyplot.scatter* |Scatter plot|\n",
    "|*pyplot.bar* |Bar plot|\n",
    "|*pyplot.counturf* |Contour plot|\n",
    "|*pyplot.imshow* |Showing images (on grids)|\n",
    "|*pyplot.pie* | Pie charts |\n",
    "|*pyplot.plot_surface* | 3D charts |"
   ]
  },
  {
   "cell_type": "markdown",
   "metadata": {
    "slideshow": {
     "slide_type": "slide"
    }
   },
   "source": [
    "## Example of a scatter plot"
   ]
  },
  {
   "cell_type": "code",
   "execution_count": null,
   "metadata": {
    "slideshow": {
     "slide_type": "-"
    }
   },
   "outputs": [],
   "source": [
    "n = 1024\n",
    "X = np.random.normal(0, 1, n)\n",
    "Y = np.random.normal(0, 1, n)\n",
    "T = np.arctan2(Y, X)\n",
    "\n",
    "plt.scatter(X, Y, s=75, c=T, alpha=0.5);\n",
    "plt.xlim([-np.pi, np.pi])\n",
    "plt.ylim([-np.pi, np.pi])"
   ]
  },
  {
   "cell_type": "markdown",
   "metadata": {
    "slideshow": {
     "slide_type": "slide"
    }
   },
   "source": [
    "## Plotting a function of x\n",
    "To start trying out plotting, let's first define a function to plot:\n",
    "$$ f(x) = (x - 3) (x - 5) (x - 7) + 85 $$"
   ]
  },
  {
   "cell_type": "code",
   "execution_count": null,
   "metadata": {},
   "outputs": [],
   "source": [
    "def func(x):\n",
    "    return (x - 3) * (x - 5) * (x - 7) + 85"
   ]
  },
  {
   "cell_type": "markdown",
   "metadata": {
    "slideshow": {
     "slide_type": "-"
    }
   },
   "source": [
    "Next, we plot this function on $  \\ x \\in [0, 10] $"
   ]
  },
  {
   "cell_type": "code",
   "execution_count": null,
   "metadata": {},
   "outputs": [],
   "source": [
    "import numpy as np\n",
    "\n",
    "# Calculate plot points:\n",
    "x = np.linspace(0, 10)"
   ]
  },
  {
   "cell_type": "code",
   "execution_count": null,
   "metadata": {},
   "outputs": [],
   "source": [
    "# Evaluate the function at the plot points\n",
    "y = func(x)\n",
    "\n",
    "# Plot graph defined by x/y points\n",
    "plt.plot(x, y)"
   ]
  },
  {
   "cell_type": "code",
   "execution_count": 45,
   "metadata": {},
   "outputs": [],
   "source": [
    "import numpy as np\n",
    "import matplotlib.pyplot as plt"
   ]
  },
  {
   "cell_type": "markdown",
   "metadata": {
    "slideshow": {
     "slide_type": "slide"
    }
   },
   "source": [
    "## Reading files with numpy\n",
    "With numpy, we use the loadtxt function to read numerical data.\n",
    "\n",
    "```txt\n",
    "10 20 30 \n",
    "20 30 1\n",
    "2.2 125 6.45\n",
    "0.1 20 3.14\n",
    "```"
   ]
  },
  {
   "cell_type": "code",
   "execution_count": 30,
   "metadata": {},
   "outputs": [
    {
     "data": {
      "text/plain": [
       "array([[1.00e+01, 2.00e+01, 3.00e+01],\n",
       "       [2.00e+01, 3.00e+01, 1.00e+00],\n",
       "       [2.20e+00, 1.25e+02, 6.45e+00],\n",
       "       [1.00e-01, 2.00e+01, 3.14e+00]])"
      ]
     },
     "execution_count": 30,
     "metadata": {},
     "output_type": "execute_result"
    }
   ],
   "source": [
    "np.loadtxt('data/example_data_simple.txt')"
   ]
  },
  {
   "cell_type": "markdown",
   "metadata": {},
   "source": [
    "There are several options to manage how the file should be read: \n",
    "```txt\n",
    "This is the first line of the file\n",
    "This is the second line of the file\n",
    "Below comes the interesting part of the file: \n",
    "10 20 30 \n",
    "20 30 1\n",
    "2.2 125 6.45\n",
    "0.1 20 3.14\n",
    "```"
   ]
  },
  {
   "cell_type": "code",
   "execution_count": 40,
   "metadata": {},
   "outputs": [
    {
     "data": {
      "text/plain": [
       "array([[1.00e+01, 2.00e+01, 3.00e+01],\n",
       "       [2.00e+01, 3.00e+01, 1.00e+00],\n",
       "       [2.20e+00, 1.25e+02, 6.45e+00],\n",
       "       [1.00e-01, 2.00e+01, 3.14e+00]])"
      ]
     },
     "execution_count": 40,
     "metadata": {},
     "output_type": "execute_result"
    }
   ],
   "source": [
    "np.loadtxt('data/example_data.txt', skiprows=3)"
   ]
  },
  {
   "cell_type": "markdown",
   "metadata": {},
   "source": [
    "```txt\n",
    "First 10 20 30 \n",
    "Second 20 30 1\n",
    "Third 2.2 125 6.45\n",
    "Fourth 0.1 20 3.14\n",
    "```"
   ]
  },
  {
   "cell_type": "code",
   "execution_count": 41,
   "metadata": {},
   "outputs": [
    {
     "data": {
      "text/plain": [
       "array([[1.00e+01, 2.00e+01, 3.00e+01],\n",
       "       [2.00e+01, 3.00e+01, 1.00e+00],\n",
       "       [2.20e+00, 1.25e+02, 6.45e+00],\n",
       "       [1.00e-01, 2.00e+01, 3.14e+00]])"
      ]
     },
     "execution_count": 41,
     "metadata": {},
     "output_type": "execute_result"
    }
   ],
   "source": [
    "np.loadtxt('data/example_data_extra_column.txt', usecols=((1,2,3)))"
   ]
  },
  {
   "cell_type": "markdown",
   "metadata": {},
   "source": [
    "```txt\n",
    "10,20,30 \n",
    "20,30,1\n",
    "2.2,125,6.45\n",
    "0.1,20,3.14\n",
    "```"
   ]
  },
  {
   "cell_type": "code",
   "execution_count": 42,
   "metadata": {},
   "outputs": [
    {
     "data": {
      "text/plain": [
       "array([[1.00e+01, 2.00e+01, 3.00e+01],\n",
       "       [2.00e+01, 3.00e+01, 1.00e+00],\n",
       "       [2.20e+00, 1.25e+02, 6.45e+00],\n",
       "       [1.00e-01, 2.00e+01, 3.14e+00]])"
      ]
     },
     "execution_count": 42,
     "metadata": {},
     "output_type": "execute_result"
    }
   ],
   "source": [
    "np.loadtxt('data/example_data_comma.txt', delimiter=',')"
   ]
  },
  {
   "cell_type": "markdown",
   "metadata": {
    "slideshow": {
     "slide_type": "slide"
    }
   },
   "source": [
    "# Plot values from the data\n",
    "\n",
    "Typically we may have a time series of data, consisting of time stamps in the first column and some interesting data in the rest of the columns: e.g.\n",
    "```txt\n",
    "t p0 p1\n",
    "0 0.1 0.2\n",
    "0.5 0.4 0.33\n",
    "1.0 0.5 0.66\n",
    "1.5 0.6 1.3\n",
    "2.0 0.62 1.70\n",
    "```"
   ]
  },
  {
   "cell_type": "markdown",
   "metadata": {},
   "source": [
    "If we do not know about the shape of the data, we load it in as a matrix:"
   ]
  },
  {
   "cell_type": "code",
   "execution_count": 43,
   "metadata": {},
   "outputs": [
    {
     "data": {
      "text/plain": [
       "(5, 3)"
      ]
     },
     "execution_count": 43,
     "metadata": {},
     "output_type": "execute_result"
    }
   ],
   "source": [
    "data = np.loadtxt('data/time_series.txt',skiprows=1)\n",
    "data.shape"
   ]
  },
  {
   "cell_type": "markdown",
   "metadata": {},
   "source": [
    "If we know the shape of the data it is possible to read each column directly to a python object. However, we might need to be careful:"
   ]
  },
  {
   "cell_type": "code",
   "execution_count": 36,
   "metadata": {},
   "outputs": [
    {
     "ename": "ValueError",
     "evalue": "too many values to unpack (expected 3)",
     "output_type": "error",
     "traceback": [
      "\u001b[1;31m---------------------------------------------------------------------------\u001b[0m",
      "\u001b[1;31mValueError\u001b[0m                                Traceback (most recent call last)",
      "Cell \u001b[1;32mIn[36], line 1\u001b[0m\n\u001b[1;32m----> 1\u001b[0m t, p0, p1 \u001b[38;5;241m=\u001b[39m np\u001b[38;5;241m.\u001b[39mloadtxt(\u001b[38;5;124m'\u001b[39m\u001b[38;5;124mdata/time_series.txt\u001b[39m\u001b[38;5;124m'\u001b[39m, skiprows\u001b[38;5;241m=\u001b[39m\u001b[38;5;241m1\u001b[39m)\n",
      "\u001b[1;31mValueError\u001b[0m: too many values to unpack (expected 3)"
     ]
    }
   ],
   "source": [
    "t, p0, p1 = np.loadtxt('data/time_series.txt', skiprows=1)"
   ]
  },
  {
   "cell_type": "code",
   "execution_count": 37,
   "metadata": {
    "scrolled": true
   },
   "outputs": [
    {
     "data": {
      "text/plain": [
       "(array([0. , 0.5, 1. , 1.5, 2. ]),\n",
       " array([0.1 , 0.4 , 0.5 , 0.6 , 0.62]),\n",
       " array([0.2 , 0.33, 0.66, 1.3 , 1.7 ]))"
      ]
     },
     "execution_count": 37,
     "metadata": {},
     "output_type": "execute_result"
    }
   ],
   "source": [
    "t, p0, p1 = np.loadtxt('data/time_series.txt', skiprows=1).transpose()\n",
    "t,p0,p1"
   ]
  },
  {
   "cell_type": "markdown",
   "metadata": {},
   "source": [
    "Now it is possible to plot from both to obtain the same result:"
   ]
  },
  {
   "cell_type": "code",
   "execution_count": 46,
   "metadata": {},
   "outputs": [
    {
     "data": {
      "text/plain": [
       "[<matplotlib.lines.Line2D at 0x1a4a783e990>]"
      ]
     },
     "execution_count": 46,
     "metadata": {},
     "output_type": "execute_result"
    },
    {
     "data": {
      "image/png": "[encoded data removed]",
      "text/plain": [
       "<Figure size 640x480 with 1 Axes>"
      ]
     },
     "metadata": {},
     "output_type": "display_data"
    }
   ],
   "source": [
    "plt.plot(t, p0)\n",
    "plt.plot(data[:,0], data[:,1],'--')"
   ]
  },
  {
   "cell_type": "markdown",
   "metadata": {
    "slideshow": {
     "slide_type": "slide"
    }
   },
   "source": [
    "# Working with larger data sets\n",
    "Consider the data in bank_index.csv\n",
    "```\n",
    "date,open,high,low,close,volume\n",
    "2015-01-09 09:15:00+05:30,18845.9,18864.0,18790.2,18815.15,0\n",
    "2015-01-09 09:30:00+05:30,18815.15,18821.4,18758.5,18771.6,0\n",
    "...\n",
    "```"
   ]
  },
  {
   "cell_type": "markdown",
   "metadata": {},
   "source": [
    "We currently have the tools to load all columns except the date"
   ]
  },
  {
   "cell_type": "code",
   "execution_count": 47,
   "metadata": {},
   "outputs": [],
   "source": [
    "data = np.loadtxt('data/bank_index.csv', skiprows=1, usecols=(np.arange(1,5)), delimiter=',')"
   ]
  },
  {
   "cell_type": "code",
   "execution_count": 48,
   "metadata": {},
   "outputs": [
    {
     "data": {
      "text/plain": [
       "(43857, 4)"
      ]
     },
     "execution_count": 48,
     "metadata": {},
     "output_type": "execute_result"
    }
   ],
   "source": [
    "data.shape"
   ]
  },
  {
   "cell_type": "code",
   "execution_count": 49,
   "metadata": {},
   "outputs": [
    {
     "data": {
      "text/plain": [
       "datetime.datetime(2015, 1, 9, 9, 15)"
      ]
     },
     "execution_count": 49,
     "metadata": {},
     "output_type": "execute_result"
    }
   ],
   "source": [
    "from datetime import datetime\n",
    "datestring = \"2015-01-09 09:15:00+05:30\"\n",
    "datetime.strptime(datestring, \"%Y-%m-%d %H:%M:%S+05:30\")\n"
   ]
  },
  {
   "cell_type": "code",
   "execution_count": 50,
   "metadata": {},
   "outputs": [
    {
     "name": "stderr",
     "output_type": "stream",
     "text": [
      "C:\\Users\\pvwol\\AppData\\Local\\Temp\\ipykernel_18864\\2590407879.py:1: UserWarning: no explicit representation of timezones available for np.datetime64\n",
      "  np.datetime64(datestring)\n"
     ]
    },
    {
     "data": {
      "text/plain": [
       "np.datetime64('2015-01-09T03:45:00')"
      ]
     },
     "execution_count": 50,
     "metadata": {},
     "output_type": "execute_result"
    }
   ],
   "source": [
    "np.datetime64(datestring)"
   ]
  },
  {
   "cell_type": "code",
   "execution_count": 52,
   "metadata": {},
   "outputs": [
    {
     "ename": "ValueError",
     "evalue": "could not convert string '2015-01-09 09:15:00+05:30' to float64 at row 0, column 1.",
     "output_type": "error",
     "traceback": [
      "\u001b[1;31m---------------------------------------------------------------------------\u001b[0m",
      "\u001b[1;31mValueError\u001b[0m                                Traceback (most recent call last)",
      "Cell \u001b[1;32mIn[52], line 1\u001b[0m\n\u001b[1;32m----> 1\u001b[0m time \u001b[38;5;241m=\u001b[39m np\u001b[38;5;241m.\u001b[39mloadtxt(\u001b[38;5;124m'\u001b[39m\u001b[38;5;124mdata/bank_index.csv\u001b[39m\u001b[38;5;124m'\u001b[39m, skiprows\u001b[38;5;241m=\u001b[39m\u001b[38;5;241m1\u001b[39m, usecols\u001b[38;5;241m=\u001b[39m(\u001b[38;5;241m0\u001b[39m,),delimiter\u001b[38;5;241m=\u001b[39m\u001b[38;5;124m'\u001b[39m\u001b[38;5;124m,\u001b[39m\u001b[38;5;124m'\u001b[39m)\n",
      "File \u001b[1;32mc:\\Users\\pvwol\\anaconda3\\Lib\\site-packages\\numpy\\lib\\_npyio_impl.py:1397\u001b[0m, in \u001b[0;36mloadtxt\u001b[1;34m(fname, dtype, comments, delimiter, converters, skiprows, usecols, unpack, ndmin, encoding, max_rows, quotechar, like)\u001b[0m\n\u001b[0;32m   1394\u001b[0m \u001b[38;5;28;01mif\u001b[39;00m \u001b[38;5;28misinstance\u001b[39m(delimiter, \u001b[38;5;28mbytes\u001b[39m):\n\u001b[0;32m   1395\u001b[0m     delimiter \u001b[38;5;241m=\u001b[39m delimiter\u001b[38;5;241m.\u001b[39mdecode(\u001b[38;5;124m'\u001b[39m\u001b[38;5;124mlatin1\u001b[39m\u001b[38;5;124m'\u001b[39m)\n\u001b[1;32m-> 1397\u001b[0m arr \u001b[38;5;241m=\u001b[39m _read(fname, dtype\u001b[38;5;241m=\u001b[39mdtype, comment\u001b[38;5;241m=\u001b[39mcomment, delimiter\u001b[38;5;241m=\u001b[39mdelimiter,\n\u001b[0;32m   1398\u001b[0m             converters\u001b[38;5;241m=\u001b[39mconverters, skiplines\u001b[38;5;241m=\u001b[39mskiprows, usecols\u001b[38;5;241m=\u001b[39musecols,\n\u001b[0;32m   1399\u001b[0m             unpack\u001b[38;5;241m=\u001b[39munpack, ndmin\u001b[38;5;241m=\u001b[39mndmin, encoding\u001b[38;5;241m=\u001b[39mencoding,\n\u001b[0;32m   1400\u001b[0m             max_rows\u001b[38;5;241m=\u001b[39mmax_rows, quote\u001b[38;5;241m=\u001b[39mquotechar)\n\u001b[0;32m   1402\u001b[0m \u001b[38;5;28;01mreturn\u001b[39;00m arr\n",
      "File \u001b[1;32mc:\\Users\\pvwol\\anaconda3\\Lib\\site-packages\\numpy\\lib\\_npyio_impl.py:1036\u001b[0m, in \u001b[0;36m_read\u001b[1;34m(fname, delimiter, comment, quote, imaginary_unit, usecols, skiplines, max_rows, converters, ndmin, unpack, dtype, encoding)\u001b[0m\n\u001b[0;32m   1033\u001b[0m     data \u001b[38;5;241m=\u001b[39m _preprocess_comments(data, comments, encoding)\n\u001b[0;32m   1035\u001b[0m \u001b[38;5;28;01mif\u001b[39;00m read_dtype_via_object_chunks \u001b[38;5;129;01mis\u001b[39;00m \u001b[38;5;28;01mNone\u001b[39;00m:\n\u001b[1;32m-> 1036\u001b[0m     arr \u001b[38;5;241m=\u001b[39m _load_from_filelike(\n\u001b[0;32m   1037\u001b[0m         data, delimiter\u001b[38;5;241m=\u001b[39mdelimiter, comment\u001b[38;5;241m=\u001b[39mcomment, quote\u001b[38;5;241m=\u001b[39mquote,\n\u001b[0;32m   1038\u001b[0m         imaginary_unit\u001b[38;5;241m=\u001b[39mimaginary_unit,\n\u001b[0;32m   1039\u001b[0m         usecols\u001b[38;5;241m=\u001b[39musecols, skiplines\u001b[38;5;241m=\u001b[39mskiplines, max_rows\u001b[38;5;241m=\u001b[39mmax_rows,\n\u001b[0;32m   1040\u001b[0m         converters\u001b[38;5;241m=\u001b[39mconverters, dtype\u001b[38;5;241m=\u001b[39mdtype,\n\u001b[0;32m   1041\u001b[0m         encoding\u001b[38;5;241m=\u001b[39mencoding, filelike\u001b[38;5;241m=\u001b[39mfilelike,\n\u001b[0;32m   1042\u001b[0m         byte_converters\u001b[38;5;241m=\u001b[39mbyte_converters)\n\u001b[0;32m   1044\u001b[0m \u001b[38;5;28;01melse\u001b[39;00m:\n\u001b[0;32m   1045\u001b[0m     \u001b[38;5;66;03m# This branch reads the file into chunks of object arrays and then\u001b[39;00m\n\u001b[0;32m   1046\u001b[0m     \u001b[38;5;66;03m# casts them to the desired actual dtype.  This ensures correct\u001b[39;00m\n\u001b[0;32m   1047\u001b[0m     \u001b[38;5;66;03m# string-length and datetime-unit discovery (like `arr.astype()`).\u001b[39;00m\n\u001b[0;32m   1048\u001b[0m     \u001b[38;5;66;03m# Due to chunking, certain error reports are less clear, currently.\u001b[39;00m\n\u001b[0;32m   1049\u001b[0m     \u001b[38;5;28;01mif\u001b[39;00m filelike:\n",
      "\u001b[1;31mValueError\u001b[0m: could not convert string '2015-01-09 09:15:00+05:30' to float64 at row 0, column 1."
     ]
    }
   ],
   "source": [
    "time = np.loadtxt('data/bank_index.csv', skiprows=1, usecols=(0,),delimiter=',')#,dtype='datetime64')"
   ]
  },
  {
   "cell_type": "code",
   "execution_count": 53,
   "metadata": {},
   "outputs": [
    {
     "name": "stderr",
     "output_type": "stream",
     "text": [
      "c:\\Users\\pvwol\\anaconda3\\Lib\\site-packages\\numpy\\lib\\_npyio_impl.py:1075: UserWarning: no explicit representation of timezones available for np.datetime64\n",
      "  chunks.append(next_arr.astype(read_dtype_via_object_chunks))\n"
     ]
    }
   ],
   "source": [
    "time = np.loadtxt('data/bank_index.csv', skiprows=1, usecols=(0,),delimiter=',',dtype='datetime64')"
   ]
  },
  {
   "cell_type": "code",
   "execution_count": 54,
   "metadata": {},
   "outputs": [
    {
     "data": {
      "text/plain": [
       "Text(0.5, 0, 'Year')"
      ]
     },
     "execution_count": 54,
     "metadata": {},
     "output_type": "execute_result"
    },
    {
     "data": {
      "image/png": "[encoded data removed]",
      "text/plain": [
       "<Figure size 640x480 with 1 Axes>"
      ]
     },
     "metadata": {},
     "output_type": "display_data"
    }
   ],
   "source": [
    "plt.plot(time, data[:,0])\n",
    "plt.title('Opening NIFTY index per year')\n",
    "plt.ylabel('Index',fontsize=15)\n",
    "plt.xlabel('Year', fontsize=15)"
   ]
  },
  {
   "cell_type": "markdown",
   "metadata": {
    "slideshow": {
     "slide_type": "slide"
    }
   },
   "source": [
    "# Exercise \n",
    "Use numpy to read and plot data from all columns from the vix-daily dataset (vix-daily_csv.csv) located on GitHub"
   ]
  },
  {
   "cell_type": "code",
   "execution_count": null,
   "metadata": {},
   "outputs": [],
   "source": [
    "data = np.loadtxt()"
   ]
  }
 ],
 "metadata": {
  "celltoolbar": "Slideshow",
  "kernelspec": {
   "display_name": "base",
   "language": "python",
   "name": "python3"
  },
  "language_info": {
   "codemirror_mode": {
    "name": "ipython",
    "version": 3
   },
   "file_extension": ".py",
   "mimetype": "text/x-python",
   "name": "python",
   "nbconvert_exporter": "python",
   "pygments_lexer": "ipython3",
   "version": "3.13.5"
  },
  "livereveal": {
   "scroll": true,
   "start_slideshow_at": "selected",
   "theme": "serif"
  }
 },
 "nbformat": 4,
 "nbformat_minor": 1
}
