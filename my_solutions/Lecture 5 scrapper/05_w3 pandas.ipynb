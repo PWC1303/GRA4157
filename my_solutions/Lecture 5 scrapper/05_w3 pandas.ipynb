{
 "cells": [
  {
   "cell_type": "code",
   "execution_count": 24,
   "id": "099e7a99",
   "metadata": {},
   "outputs": [],
   "source": [
    "import pandas as pd \n",
    "import numpy as np \n",
    "\n",
    "\n",
    "import time"
   ]
  },
  {
   "cell_type": "markdown",
   "id": "9cf575e4",
   "metadata": {},
   "source": [
    "## 1. Large DataFrame Sum Performance\n",
    "\n",
    "Write a Pandas program to create a large DataFrame and measure the time taken to sum a column using a for loop vs. using the sum method"
   ]
  },
  {
   "cell_type": "code",
   "execution_count": 78,
   "id": "d81a706f",
   "metadata": {},
   "outputs": [],
   "source": [
    "df = pd.DataFrame(data = np.random.uniform(-10000,100000,100000000))"
   ]
  },
  {
   "cell_type": "code",
   "execution_count": 79,
   "id": "c4247ac0",
   "metadata": {},
   "outputs": [
    {
     "name": "stdout",
     "output_type": "stream",
     "text": [
      "For loop method used 17.957494497299194 and method used 0.21529054641723633\n"
     ]
    }
   ],
   "source": [
    "import time\n",
    "\n",
    "start_for =time.time()\n",
    "summen = 0\n",
    "for i in df[0]:\n",
    "    summen = summen + i\n",
    "\n",
    "end_for = time.time()\n",
    "\n",
    "elapsed_for = end_for - start_for\n",
    "\n",
    "start_method = time.time()\n",
    "\n",
    "df.sum()\n",
    "\n",
    "end_method = time.time()\n",
    "\n",
    "elapsed_metod = end_method-start_method\n",
    "\n",
    "print(f\"For loop method used {elapsed_for} and method used {elapsed_metod}\")\n"
   ]
  }
 ],
 "metadata": {
  "kernelspec": {
   "display_name": "gra4157",
   "language": "python",
   "name": "python3"
  },
  "language_info": {
   "codemirror_mode": {
    "name": "ipython",
    "version": 3
   },
   "file_extension": ".py",
   "mimetype": "text/x-python",
   "name": "python",
   "nbconvert_exporter": "python",
   "pygments_lexer": "ipython3",
   "version": "3.11.13"
  }
 },
 "nbformat": 4,
 "nbformat_minor": 5
}
